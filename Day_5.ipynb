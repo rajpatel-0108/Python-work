{
 "cells": [
  {
   "cell_type": "markdown",
   "id": "18572c6d",
   "metadata": {},
   "source": [
    "<b> 1) Pattern (Without using list and using List)"
   ]
  },
  {
   "cell_type": "markdown",
   "id": "3aa87d6f",
   "metadata": {},
   "source": [
    "<b>Solid Pattern Pyramid"
   ]
  },
  {
   "cell_type": "code",
   "execution_count": 192,
   "id": "7ce005f8",
   "metadata": {},
   "outputs": [
    {
     "name": "stdout",
     "output_type": "stream",
     "text": [
      "Please Enter Number of rows: 5\n",
      "*\n",
      "**\n",
      "***\n",
      "****\n",
      "*****\n"
     ]
    }
   ],
   "source": [
    "num =int(input('Please Enter Number of rows: '))\n",
    "for i in range(num):\n",
    "    for j in range(i+1):\n",
    "        print('*', end='')\n",
    "    print()"
   ]
  },
  {
   "cell_type": "code",
   "execution_count": 203,
   "id": "ce9fb9fb",
   "metadata": {},
   "outputs": [
    {
     "name": "stdout",
     "output_type": "stream",
     "text": [
      "Please Enter Number of rows: 5\n",
      "*****\n",
      "****\n",
      "***\n",
      "**\n",
      "*\n"
     ]
    }
   ],
   "source": [
    "num =int(input('Please Enter Number of rows: '))\n",
    "for i in range(num,0,-1):\n",
    "    for j in range(i,0,-1):\n",
    "        print('*', end='')\n",
    "    print()"
   ]
  },
  {
   "cell_type": "code",
   "execution_count": 231,
   "id": "c56c16b9",
   "metadata": {},
   "outputs": [
    {
     "name": "stdout",
     "output_type": "stream",
     "text": [
      "Please Enter Number of rows: 5\n",
      "*****\n",
      " ****\n",
      "  ***\n",
      "   **\n",
      "    *\n"
     ]
    }
   ],
   "source": [
    "num =int(input('Please Enter Number of rows: '))\n",
    "for i in range(num,0,-1):\n",
    "    for j in range(num-i):\n",
    "        print(' ', end='')\n",
    "    for j in range(i,0,-1):\n",
    "        print('*', end='') \n",
    "    print()"
   ]
  },
  {
   "cell_type": "code",
   "execution_count": 360,
   "id": "63c321a7",
   "metadata": {},
   "outputs": [
    {
     "name": "stdout",
     "output_type": "stream",
     "text": [
      "Please Enter Number of rows: 5\n",
      "    *\n",
      "   **\n",
      "  ***\n",
      " ****\n",
      "*****\n"
     ]
    }
   ],
   "source": [
    "num =int(input('Please Enter Number of rows: '))\n",
    "for i in range(num):\n",
    "    for j in range(num-i-1):\n",
    "        print(' ', end='')\n",
    "    for j in range(i+1):\n",
    "        print('*', end='')\n",
    "    print()"
   ]
  },
  {
   "cell_type": "markdown",
   "id": "aa5fba81",
   "metadata": {},
   "source": [
    "<b> Solid triangle"
   ]
  },
  {
   "cell_type": "code",
   "execution_count": 329,
   "id": "aa0414f7",
   "metadata": {},
   "outputs": [
    {
     "name": "stdout",
     "output_type": "stream",
     "text": [
      "Please Enter Number of rows: 5\n",
      "     * \n",
      "    * * \n",
      "   * * * \n",
      "  * * * * \n",
      " * * * * * \n"
     ]
    }
   ],
   "source": [
    "num =int(input('Please Enter Number of rows: '))\n",
    "for i in range(num):\n",
    "    for j in range(num-i):\n",
    "        print(' ', end='')\n",
    "    for j in range(0,i+1):\n",
    "        print('* ', end='') \n",
    "    print()"
   ]
  },
  {
   "cell_type": "code",
   "execution_count": 248,
   "id": "3b6d561b",
   "metadata": {},
   "outputs": [
    {
     "name": "stdout",
     "output_type": "stream",
     "text": [
      "Please Enter Number of rows: 5\n",
      "* * * * * \n",
      " * * * * \n",
      "  * * * \n",
      "   * * \n",
      "    * \n"
     ]
    }
   ],
   "source": [
    "num =int(input('Please Enter Number of rows: '))\n",
    "for i in range(num,0,-1):\n",
    "    for j in range(num-i):\n",
    "        print(' ', end='')\n",
    "    for j in range(i,0,-1):\n",
    "        print('* ', end='') \n",
    "    print()"
   ]
  },
  {
   "cell_type": "markdown",
   "id": "d2c0f647",
   "metadata": {},
   "source": [
    "<b> Hollow Pattern Pyramid"
   ]
  },
  {
   "cell_type": "code",
   "execution_count": 624,
   "id": "1bf835bb",
   "metadata": {},
   "outputs": [
    {
     "name": "stdout",
     "output_type": "stream",
     "text": [
      "Please Enter Number of rows: 5\n",
      "*\n",
      "**\n",
      "* *\n",
      "*  *\n",
      "*****\n"
     ]
    }
   ],
   "source": [
    "num =int(input('Please Enter Number of rows: '))\n",
    "for i in range(num):\n",
    "    for j in range(i+1):\n",
    "        if j==0 or j==i or i==num-1:\n",
    "            print('*', end='')\n",
    "        else:\n",
    "            print(\"\", end=' ')\n",
    "    print()"
   ]
  },
  {
   "cell_type": "code",
   "execution_count": 333,
   "id": "8e29da5c",
   "metadata": {},
   "outputs": [
    {
     "name": "stdout",
     "output_type": "stream",
     "text": [
      "Please Enter Number of rows: 5\n",
      "*****\n",
      "*  *\n",
      "* *\n",
      "**\n",
      "*\n"
     ]
    }
   ],
   "source": [
    "num =int(input('Please Enter Number of rows: '))\n",
    "for i in range(num,0,-1):\n",
    "    for j in range(i,0,-1):\n",
    "#         print('*', end='')\n",
    "        if i==num or j==1 or j==i:\n",
    "            print('*', end='')\n",
    "        else:\n",
    "            print(\"\", end=' ')\n",
    "    print()"
   ]
  },
  {
   "cell_type": "code",
   "execution_count": 325,
   "id": "e99596c9",
   "metadata": {},
   "outputs": [
    {
     "name": "stdout",
     "output_type": "stream",
     "text": [
      "Please Enter Number of rows: 5\n",
      "*****\n",
      " *  *\n",
      "  * *\n",
      "   **\n",
      "    *\n"
     ]
    }
   ],
   "source": [
    "num =int(input('Please Enter Number of rows: '))\n",
    "for i in range(num,0,-1):\n",
    "    for j in range(num-i):\n",
    "        print(' ', end='')\n",
    "    for j in range(i,0,-1):\n",
    "        if i==num or j==1 or j==i:\n",
    "            print('*', end='')\n",
    "        else:\n",
    "            print(\"\",end=' ')\n",
    "#         print('*', end='') \n",
    "    print()"
   ]
  },
  {
   "cell_type": "code",
   "execution_count": 359,
   "id": "b1bd62a8",
   "metadata": {},
   "outputs": [
    {
     "name": "stdout",
     "output_type": "stream",
     "text": [
      "Please Enter Number of rows: 5\n",
      "    *\n",
      "   **\n",
      "  * *\n",
      " *  *\n",
      "*****\n"
     ]
    }
   ],
   "source": [
    "num =int(input('Please Enter Number of rows: '))\n",
    "for i in range(num):\n",
    "    for j in range(num-i-1):\n",
    "        print(' ', end='')\n",
    "    for j in range(i+1):\n",
    "        if j==0 or j==i or i==num-1:\n",
    "            print('*', end='')\n",
    "        else:\n",
    "            print(\"\", end=' ')\n",
    "#         print('*', end='')\n",
    "\n",
    "    print()"
   ]
  },
  {
   "cell_type": "markdown",
   "id": "1af18190",
   "metadata": {},
   "source": [
    "<b> Hollow Triangle"
   ]
  },
  {
   "cell_type": "code",
   "execution_count": 364,
   "id": "65d2c4bf",
   "metadata": {},
   "outputs": [
    {
     "name": "stdout",
     "output_type": "stream",
     "text": [
      "Please Enter Number of rows: 5\n",
      "    * \n",
      "   * * \n",
      "  *   * \n",
      " *     * \n",
      "* * * * * \n"
     ]
    }
   ],
   "source": [
    "num =int(input('Please Enter Number of rows: '))\n",
    "for i in range(num):\n",
    "    for j in range(num-i-1):\n",
    "        print(' ', end='')\n",
    "    for j in range(i+1):\n",
    "        if j==0 or j==i or i==num-1:\n",
    "            print('* ', end='')\n",
    "        else:\n",
    "            print(\" \", end=' ')\n",
    "#         print('*', end='')\n",
    "    print()"
   ]
  },
  {
   "cell_type": "code",
   "execution_count": 408,
   "id": "41bff817",
   "metadata": {},
   "outputs": [
    {
     "name": "stdout",
     "output_type": "stream",
     "text": [
      "Please Enter Number of rows: 5\n",
      "* * * * * \n",
      " *     * \n",
      "  *   * \n",
      "   * * \n",
      "    * \n"
     ]
    }
   ],
   "source": [
    "num =int(input('Please Enter Number of rows: '))\n",
    "for i in range(num,0,-1):\n",
    "    for j in range(num-i):\n",
    "        print(' ', end='')\n",
    "    for j in range(i,0,-1):\n",
    "        if i==num or j==1  or j==i:\n",
    "            print('* ', end='')\n",
    "        else:\n",
    "            print(\" \",end=' ')\n",
    "#         print('*', end='') \n",
    "    print()"
   ]
  },
  {
   "cell_type": "markdown",
   "id": "7e52d7b5",
   "metadata": {},
   "source": [
    "<b> Solid Diamond"
   ]
  },
  {
   "cell_type": "code",
   "execution_count": 361,
   "id": "6fef327a",
   "metadata": {},
   "outputs": [
    {
     "name": "stdout",
     "output_type": "stream",
     "text": [
      "Please Enter Number of rows: 5\n",
      "    * \n",
      "   * * \n",
      "  * * * \n",
      " * * * * \n",
      "* * * * * \n",
      "* * * * * \n",
      " * * * * \n",
      "  * * * \n",
      "   * * \n",
      "    * \n"
     ]
    }
   ],
   "source": [
    "num =int(input('Please Enter Number of rows: '))\n",
    "for i in range(num):\n",
    "    for j in range(num-i-1):\n",
    "        print(' ', end='')\n",
    "    for j in range(0,i+1):\n",
    "        print('* ', end='') \n",
    "    print()\n",
    "for i in range(num,0,-1):\n",
    "    for j in range(num-i):\n",
    "        print(' ', end='')\n",
    "    for j in range(i,0,-1):\n",
    "        print('* ', end='') \n",
    "    print()"
   ]
  },
  {
   "cell_type": "markdown",
   "id": "428292dd",
   "metadata": {},
   "source": [
    "<b> Hollow Diamond"
   ]
  },
  {
   "cell_type": "code",
   "execution_count": 374,
   "id": "68970573",
   "metadata": {},
   "outputs": [
    {
     "name": "stdout",
     "output_type": "stream",
     "text": [
      "Please Enter Number of rows: 5\n",
      "    * \n",
      "   * * \n",
      "  *   * \n",
      " *     * \n",
      "*       * \n",
      "*       * \n",
      " *     * \n",
      "  *   * \n",
      "   * * \n",
      "    * \n"
     ]
    }
   ],
   "source": [
    "num =int(input('Please Enter Number of rows: '))\n",
    "for i in range(num):\n",
    "    for j in range(num-i-1):\n",
    "        print(' ', end='')\n",
    "    for j in range(i+1):\n",
    "        if j==0 or j==i:\n",
    "            print('* ', end='')\n",
    "        else:\n",
    "            print(\" \", end=' ')\n",
    "    print()\n",
    "for i in range(num,0,-1):\n",
    "    for j in range(num-i):\n",
    "        print(' ', end='')\n",
    "    for j in range(i,0,-1):\n",
    "        if j==1  or j==i:\n",
    "            print('* ', end='')\n",
    "        else:\n",
    "            print(\" \",end=' ')\n",
    "    print()"
   ]
  },
  {
   "cell_type": "markdown",
   "id": "c7063e85",
   "metadata": {},
   "source": [
    "<b> Solid Half Diamond"
   ]
  },
  {
   "cell_type": "code",
   "execution_count": 378,
   "id": "21dabed8",
   "metadata": {},
   "outputs": [
    {
     "name": "stdout",
     "output_type": "stream",
     "text": [
      "Please Enter Number of rows: 5\n",
      "\n",
      "*\n",
      "**\n",
      "***\n",
      "****\n",
      "*****\n",
      "****\n",
      "***\n",
      "**\n",
      "*\n"
     ]
    }
   ],
   "source": [
    "num =int(input('Please Enter Number of rows: '))\n",
    "for i in range(num):\n",
    "    for j in range(i):\n",
    "        print('*', end='')\n",
    "    print()\n",
    "for i in range(num,0,-1):\n",
    "    for j in range(i,0,-1):\n",
    "        print('*', end='')\n",
    "    print()"
   ]
  },
  {
   "cell_type": "code",
   "execution_count": 457,
   "id": "9ab28f67",
   "metadata": {},
   "outputs": [
    {
     "name": "stdout",
     "output_type": "stream",
     "text": [
      "Please Enter Number of rows: 5\n",
      "    *\n",
      "   **\n",
      "  ***\n",
      " ****\n",
      "*****\n",
      "*****\n",
      " ****\n",
      "  ***\n",
      "   **\n",
      "    *\n"
     ]
    }
   ],
   "source": [
    "num =int(input('Please Enter Number of rows: '))\n",
    "for i in range(num):\n",
    "    for j in range(num-i-1):\n",
    "        print(' ', end='')\n",
    "    for j in range(i+1):\n",
    "        print('*', end='')\n",
    "    print()\n",
    "for i in range(num,0,-1):\n",
    "    for j in range(num-i):\n",
    "        print(' ', end='')\n",
    "    for j in range(i,0,-1):\n",
    "        print('*', end='') \n",
    "    print()"
   ]
  },
  {
   "cell_type": "markdown",
   "id": "a8094008",
   "metadata": {},
   "source": [
    "<b> Right Arrow"
   ]
  },
  {
   "cell_type": "code",
   "execution_count": 430,
   "id": "86d1ff40",
   "metadata": {},
   "outputs": [
    {
     "name": "stdout",
     "output_type": "stream",
     "text": [
      "Please Enter Number of rows: 5\n",
      "     * \n",
      "      * \n",
      "       * \n",
      "        * \n",
      " * * * * * \n",
      "        * \n",
      "       * \n",
      "      * \n",
      "     * \n"
     ]
    }
   ],
   "source": [
    "num =int(input('Please Enter Number of rows: '))\n",
    "for i in range(num):\n",
    "    for j in range(num-i):\n",
    "        print(' ', end='')\n",
    "    for j in range(i+1):\n",
    "        if j==i or i==num-1:\n",
    "            print('* ', end='')\n",
    "        else:\n",
    "            print(\" \", end=' ')\n",
    "#         print('*', end='')\n",
    "    print()\n",
    "for i in range(num,1,-1):\n",
    "    for j in range(num-i):\n",
    "        print(' ', end='')\n",
    "    for j in range(i,0,-1):\n",
    "        if j==1:\n",
    "            print('* ', end='')\n",
    "        else:\n",
    "            print(\" \",end=' ')\n",
    "#         print('*', end='') \n",
    "    print()"
   ]
  },
  {
   "cell_type": "markdown",
   "id": "eaa0fb44",
   "metadata": {},
   "source": [
    "<b> Left arrow"
   ]
  },
  {
   "cell_type": "code",
   "execution_count": 445,
   "id": "1ec32743",
   "metadata": {},
   "outputs": [
    {
     "name": "stdout",
     "output_type": "stream",
     "text": [
      "Please Enter Number of rows: 5\n",
      "    * \n",
      "   *   \n",
      "  *     \n",
      " *       \n",
      "* * * * * \n",
      " *         \n",
      "  *       \n",
      "   *     \n",
      "    *   \n"
     ]
    }
   ],
   "source": [
    "num =int(input('Please Enter Number of rows: '))\n",
    "for i in range(num):\n",
    "    for j in range(num-i-1):\n",
    "        print(' ', end='')\n",
    "    for j in range(i+1):\n",
    "        if j==0 or i==num-1:\n",
    "            print('* ', end='')\n",
    "        else:\n",
    "            print(\" \", end=' ')\n",
    "    print()\n",
    "for i in range(num,1,-1):\n",
    "    for j in range(num-i+1):\n",
    "        print(' ', end='')\n",
    "    for j in range(i,0,-1):\n",
    "        if j==i:\n",
    "            print('* ', end='')\n",
    "        else:\n",
    "            print(\" \",end=' ')\n",
    "    print()"
   ]
  },
  {
   "cell_type": "markdown",
   "id": "e35bf827",
   "metadata": {},
   "source": [
    "<b> Butterfly wings Pattern"
   ]
  },
  {
   "cell_type": "code",
   "execution_count": 481,
   "id": "54bfc949",
   "metadata": {},
   "outputs": [
    {
     "name": "stdout",
     "output_type": "stream",
     "text": [
      "Please Enter Number of rows: 5\n",
      "*        *\n",
      "**      **\n",
      "***    ***\n",
      "****  ****\n",
      "**********\n",
      "**********\n",
      "****  ****\n",
      "***    ***\n",
      "**      **\n",
      "*        *\n"
     ]
    }
   ],
   "source": [
    "num =int(input('Please Enter Number of rows: '))\n",
    "for i in range(num):\n",
    "    for j in range(i+1):\n",
    "        print('*', end='')\n",
    "    for j in range(num-i-1): #spacing after first upper left triangle\n",
    "        print(' ', end='')\n",
    "    for j in range(num-i-1): #spacing after first upper space triangle\n",
    "        print(' ', end='')\n",
    "    for j in range(i+1):\n",
    "        print('*', end='')\n",
    "    print()    \n",
    "for i in range(num,0,-1):\n",
    "    for j in range(i,0,-1):\n",
    "        print('*', end='')\n",
    "    for j in range(num-i): #spacing after first lower left triangle\n",
    "        print(' ', end='')\n",
    "    for j in range(num-i):\n",
    "        print(' ', end='') #spacing after first lower space triangle\n",
    "    for j in range(i,0,-1):\n",
    "        print('*', end='') \n",
    "    print()"
   ]
  },
  {
   "cell_type": "code",
   "execution_count": 482,
   "id": "eb42e8f4",
   "metadata": {},
   "outputs": [
    {
     "name": "stdout",
     "output_type": "stream",
     "text": [
      "Please Enter Number of rows: 5\n",
      "**********\n",
      "****  ****\n",
      "***    ***\n",
      "**      **\n",
      "*        *\n",
      "*        *\n",
      "**      **\n",
      "***    ***\n",
      "****  ****\n",
      "**********\n"
     ]
    }
   ],
   "source": [
    "num =int(input('Please Enter Number of rows: ')) \n",
    "for i in range(num,0,-1):\n",
    "    for j in range(i,0,-1):\n",
    "        print('*', end='')\n",
    "    for j in range(num-i): #spacing after first lower left triangle\n",
    "        print(' ', end='')\n",
    "    for j in range(num-i):\n",
    "        print(' ', end='') #spacing after first lower space triangle\n",
    "    for j in range(i,0,-1):\n",
    "        print('*', end='') \n",
    "    print()\n",
    "for i in range(num):\n",
    "    for j in range(i+1):\n",
    "        print('*', end='')\n",
    "    for j in range(num-i-1): #spacing after first upper left triangle\n",
    "        print(' ', end='')\n",
    "    for j in range(num-i-1): #spacing after first upper space triangle\n",
    "        print(' ', end='')\n",
    "    for j in range(i+1):\n",
    "        print('*', end='')\n",
    "    print()   "
   ]
  },
  {
   "cell_type": "code",
   "execution_count": 550,
   "id": "ad85637e",
   "metadata": {},
   "outputs": [
    {
     "name": "stdout",
     "output_type": "stream",
     "text": [
      "Please Enter Number of rows: 8\n",
      "       *\n",
      "      ***\n",
      "     * * *\n",
      "    *  *  *\n",
      "   *   *   *\n",
      "  *    *    *\n",
      " *     *     *\n",
      "***************\n",
      " *     *     *\n",
      "  *    *    *\n",
      "   *   *   *\n",
      "    *  *  *\n",
      "     * * *\n",
      "      ***\n",
      "       *\n"
     ]
    }
   ],
   "source": [
    "num =int(input('Please Enter Number of rows: '))\n",
    "for i in range(num-1):\n",
    "    for j in range(num-i-1):\n",
    "        print(' ', end='')\n",
    "    for j in range(i):\n",
    "        if j==0:\n",
    "            print('*', end='')\n",
    "        else:\n",
    "            print(\"\", end=' ')\n",
    "    for j in range(i+1):\n",
    "        if j==0 or j==i:\n",
    "            print('*', end='')\n",
    "        else:\n",
    "            print(\"\", end=' ')\n",
    "    print()\n",
    "for i in range(num,0,-1):\n",
    "    for j in range(num-i):\n",
    "        print(' ', end='')\n",
    "    for j in range(i,1,-1):\n",
    "        if i==num or j==1 or j==i:\n",
    "            print('*', end='')\n",
    "        else:\n",
    "            print(\"\",end=' ')\n",
    "    for j in range(i,0,-1):\n",
    "        if i==num or j==1 or j==i:\n",
    "            print('*', end='')\n",
    "        else:\n",
    "            print(\"\", end=' ')\n",
    "    print()"
   ]
  },
  {
   "cell_type": "code",
   "execution_count": 522,
   "id": "98c0da07",
   "metadata": {},
   "outputs": [
    {
     "name": "stdout",
     "output_type": "stream",
     "text": [
      "Please Enter Number of rows: 5\n",
      "1 \n",
      "2 3 \n",
      "4 5 6 \n",
      "7 8 9 10 \n",
      "11 12 13 14 15 \n"
     ]
    }
   ],
   "source": [
    "num =int(input('Please Enter Number of rows: '))\n",
    "k=1\n",
    "for i in range(num):\n",
    "    for j in range(i+1):\n",
    "        print(k, end=' ')\n",
    "        k +=1\n",
    "    print()"
   ]
  },
  {
   "cell_type": "code",
   "execution_count": 532,
   "id": "f060adc9",
   "metadata": {},
   "outputs": [
    {
     "name": "stdout",
     "output_type": "stream",
     "text": [
      "Please Enter Number of rows: 4\n",
      "1 \n",
      "2 3 \n",
      "4 5 6 \n",
      "7 8 9 *\n"
     ]
    }
   ],
   "source": [
    "num =int(input('Please Enter Number of rows: '))\n",
    "k=1\n",
    "for i in range(num):\n",
    "    for j in range(i+1):\n",
    "        if k == 10:\n",
    "#             print(k)\n",
    "            print('*',end='')\n",
    "        else:\n",
    "            print(k, end=' ')\n",
    "            k +=1\n",
    "    print()"
   ]
  },
  {
   "cell_type": "code",
   "execution_count": 34,
   "id": "f8cc554a",
   "metadata": {},
   "outputs": [
    {
     "name": "stdout",
     "output_type": "stream",
     "text": [
      "Please Enter Number of rows: 5\n",
      "*\n",
      "**\n",
      "***\n",
      "****\n",
      "*****\n"
     ]
    }
   ],
   "source": [
    "num =int(input('Please Enter Number of rows: '))\n",
    "mylst = []\n",
    "for i in range(1,num+1):\n",
    "    mylst.append(\"*\"*i)\n",
    "print(\"\\n\".join(mylst))"
   ]
  },
  {
   "cell_type": "code",
   "execution_count": 243,
   "id": "a1eab4a2",
   "metadata": {},
   "outputs": [
    {
     "name": "stdout",
     "output_type": "stream",
     "text": [
      "Please Enter the number of rows:5\n",
      "     * \n",
      "    * * \n",
      "   * * * \n",
      "  * * * * \n",
      " * * * * * \n"
     ]
    }
   ],
   "source": [
    "num = int(input(\"Please Enter the number of rows:\"))  \n",
    "for i in range(num):  \n",
    "    for j in range(num-i):  \n",
    "        print(end=\" \")  \n",
    "    for j in range(0, i + 1):  \n",
    "        print(\"* \", end=\"\") \n",
    "    print(\"\")  "
   ]
  },
  {
   "cell_type": "code",
   "execution_count": 57,
   "id": "0fa6438c",
   "metadata": {},
   "outputs": [
    {
     "name": "stdout",
     "output_type": "stream",
     "text": [
      "Please Enter Number of rows: 5\n",
      "1 \n",
      "1 2 \n",
      "1 2 3 \n",
      "1 2 3 4 \n",
      "1 2 3 4 5 \n"
     ]
    }
   ],
   "source": [
    "num =int(input('Please Enter Number of rows: '))\n",
    "for i in range(num):\n",
    "    for j in range(i+1):\n",
    "        print(j+1, end=' ')\n",
    "    print()"
   ]
  },
  {
   "cell_type": "code",
   "execution_count": 547,
   "id": "f15660de",
   "metadata": {},
   "outputs": [
    {
     "name": "stdout",
     "output_type": "stream",
     "text": [
      "Please Enter Number of rows: 5\n",
      "1 \n",
      "2 3 \n",
      "5 6 7 \n",
      "8 9 10 11 \n",
      "12 13 14 15 16 \n"
     ]
    }
   ],
   "source": [
    "num =int(input('Please Enter Number of rows: '))\n",
    "k=0\n",
    "for i in range(num):\n",
    "    for j in range(i+1):\n",
    "        k +=1\n",
    "        if k == 4:\n",
    "            k+=1\n",
    "        print(k, end=' ')\n",
    "    print()"
   ]
  },
  {
   "cell_type": "code",
   "execution_count": 344,
   "id": "e4cc60bb",
   "metadata": {},
   "outputs": [
    {
     "name": "stdout",
     "output_type": "stream",
     "text": [
      "Please Enter Number of rows: 5\n",
      "1 2 3 4 5 \n",
      "2 2 3 4 5 \n",
      "3 3 3 4 5 \n",
      "4 4 4 4 5 \n",
      "5 5 5 5 5 \n"
     ]
    }
   ],
   "source": [
    "num =int(input('Please Enter Number of rows: '))\n",
    "for i in range(1,num+1):\n",
    "    for j in range(1,num+1):\n",
    "        if j <= i:\n",
    "#             print(\"i\",end=' ')\n",
    "            print(i, end=' ') \n",
    "        else:\n",
    "            print(j, end=' ')\n",
    "#             print(\"j\")\n",
    "    print()"
   ]
  },
  {
   "cell_type": "code",
   "execution_count": 537,
   "id": "e4d87bdd",
   "metadata": {},
   "outputs": [
    {
     "name": "stdout",
     "output_type": "stream",
     "text": [
      "Please Enter Number of rows: 5\n",
      "A \n",
      "B C \n",
      "D E F \n",
      "\n",
      "\n"
     ]
    }
   ],
   "source": [
    "ascii_value = 65\n",
    "num =int(input('Please Enter Number of rows: '))\n",
    "for i in range(num):\n",
    "    for j in range(i+1):\n",
    "        alphabet = chr(ascii_value)\n",
    "        print(alphabet, end=' ')\n",
    "        ascii_value +=1\n",
    "    print()"
   ]
  },
  {
   "cell_type": "code",
   "execution_count": 73,
   "id": "7c300e96",
   "metadata": {},
   "outputs": [
    {
     "name": "stdout",
     "output_type": "stream",
     "text": [
      "Please Enter Number of rows: 5\n",
      "A \n",
      "B B \n",
      "C C C \n",
      "D D D D \n",
      "E E E E E \n"
     ]
    }
   ],
   "source": [
    "ascii_value = 65\n",
    "num =int(input('Please Enter Number of rows: '))\n",
    "for i in range(num):\n",
    "    for j in range(i+1):\n",
    "        alphabet = chr(ascii_value)\n",
    "        print(alphabet, end=' ')\n",
    "    ascii_value +=1\n",
    "    print()"
   ]
  },
  {
   "cell_type": "code",
   "execution_count": 549,
   "id": "407db00e",
   "metadata": {},
   "outputs": [
    {
     "name": "stdout",
     "output_type": "stream",
     "text": [
      "Please Enter Number of rows: 4\n",
      "0 0 0 \n",
      "1 1 1 1 \n",
      "2 2 2 \n",
      "3 3 3 3 \n"
     ]
    }
   ],
   "source": [
    "num =int(input('Please Enter Number of rows: '))\n",
    "for i in range(num):\n",
    "    if i%2 != 0:\n",
    "        for j in range(4):\n",
    "            print(i, end=' ')\n",
    "    else:\n",
    "        for j in range(3):\n",
    "            print(i, end = ' ')\n",
    "    print()"
   ]
  },
  {
   "cell_type": "code",
   "execution_count": 622,
   "id": "f296e94f",
   "metadata": {},
   "outputs": [
    {
     "name": "stdout",
     "output_type": "stream",
     "text": [
      "Please Enter Number of rows: 6\n",
      "- - - - - - \n",
      "+ @       - \n",
      "+ * @     - \n",
      "+ * * @   - \n",
      "+ * * * @ - \n",
      "+ * * * * - \n"
     ]
    }
   ],
   "source": [
    "num =int(input('Please Enter Number of rows: '))\n",
    "for i in range(num,0,-1):\n",
    "    for j in range(num-i):\n",
    "        if j==num-1:\n",
    "            print('$',end=' ')\n",
    "        elif j==0:\n",
    "            print('+',end=' ')\n",
    "        else:\n",
    "            print('*', end=' ')\n",
    "    for j in range(i,0,-1):\n",
    "        if i==num or j==1:\n",
    "            print('-', end=' ')\n",
    "        elif j==i:\n",
    "            print('@',end=' ')\n",
    "        else:\n",
    "            print(\" \",end=' ')\n",
    "    print()"
   ]
  },
  {
   "cell_type": "code",
   "execution_count": 632,
   "id": "d8d04f13",
   "metadata": {},
   "outputs": [
    {
     "name": "stdout",
     "output_type": "stream",
     "text": [
      "Please Enter Number of rows: 6\n",
      "* \n",
      "      \n",
      "* # \n",
      "     *\n",
      "* # # \n",
      "     *\n",
      "* # # # \n",
      "     *\n",
      "* # # # # \n",
      "     *\n",
      "* * * * * * \n",
      "     *\n"
     ]
    }
   ],
   "source": [
    "num =int(input('Please Enter Number of rows: '))\n",
    "for i in range(num):\n",
    "    for j in range(i+1):\n",
    "        if j==0 or i==num-1:\n",
    "            print('*', end=' ')\n",
    "        else:\n",
    "            print(\"#\", end=' ')\n",
    "    print()\n",
    "    for j in range(num - i):\n",
    "        print(' ', end='')\n",
    "    for j in range(i,0,-1):\n",
    "        if i==num or j==1:\n",
    "            print('*', end='')\n",
    "        else:\n",
    "            print(\"\",end=' ')\n",
    "    print()"
   ]
  },
  {
   "cell_type": "code",
   "execution_count": 630,
   "id": "a21d2578",
   "metadata": {},
   "outputs": [
    {
     "name": "stdout",
     "output_type": "stream",
     "text": [
      "Please Enter Number of rows: 6\n",
      "******\n",
      "     *\n",
      "     *\n",
      "     *\n",
      "     *\n",
      "     *\n"
     ]
    }
   ],
   "source": [
    "num =int(input('Please Enter Number of rows: '))\n",
    "for i in range(num,0,-1):\n",
    "    for j in range(num-i):\n",
    "        print(' ', end='')\n",
    "    for j in range(i,0,-1):\n",
    "        if i==num or j==1:\n",
    "            print('*', end='')\n",
    "        else:\n",
    "            print(\"\",end=' ')\n",
    "    print()"
   ]
  },
  {
   "cell_type": "code",
   "execution_count": null,
   "id": "52f1724e",
   "metadata": {},
   "outputs": [],
   "source": []
  }
 ],
 "metadata": {
  "kernelspec": {
   "display_name": "Python 3 (ipykernel)",
   "language": "python",
   "name": "python3"
  },
  "language_info": {
   "codemirror_mode": {
    "name": "ipython",
    "version": 3
   },
   "file_extension": ".py",
   "mimetype": "text/x-python",
   "name": "python",
   "nbconvert_exporter": "python",
   "pygments_lexer": "ipython3",
   "version": "3.10.4"
  }
 },
 "nbformat": 4,
 "nbformat_minor": 5
}
