{
 "cells": [
  {
   "cell_type": "markdown",
   "id": "132172eb",
   "metadata": {},
   "source": [
    "<b>\n",
    "Q1. Write a program to accept percentage from the user and display the grade according to the following criteria:\n",
    "           \n",
    "         Marks                                    Grade \n",
    "         > 90                                        A\n",
    "         > 80 and <= 90                              B\n",
    "         >= 60 and <= 80                             C\n",
    "         below 60                                    D"
   ]
  },
  {
   "cell_type": "code",
   "execution_count": 74,
   "id": "d5db39cc",
   "metadata": {},
   "outputs": [
    {
     "name": "stdout",
     "output_type": "stream",
     "text": [
      "Enter Percentage: 80\n",
      "You got C grade\n"
     ]
    }
   ],
   "source": [
    "marks = int(input(\"Enter Percentage: \"))\n",
    "if marks > 90:\n",
    "    print(\"You got A grade\")\n",
    "elif marks > 80 and marks <=90:\n",
    "    print(\"You got B grade\")\n",
    "elif marks >= 60 and marks <=80:\n",
    "    print(\"You got C grade\")\n",
    "elif marks < 60:\n",
    "    print(\"You got D grade\")"
   ]
  },
  {
   "cell_type": "markdown",
   "id": "1ef57118",
   "metadata": {},
   "source": [
    "<b>\n",
    "Q2. Write a program to accept the cost price of a bike and display the road tax to be paid according to the following criteria :\n",
    "    \n",
    "        Cost  price (in Rs)                                       Tax\n",
    "        > 100000                                                  15 %\n",
    "        > 50000 and <= 100000                                     10%\n",
    "        <= 50000                                                  5%"
   ]
  },
  {
   "cell_type": "code",
   "execution_count": 10,
   "id": "5e03218f",
   "metadata": {},
   "outputs": [
    {
     "name": "stdout",
     "output_type": "stream",
     "text": [
      "Enter Cost price of Bike:150000\n",
      "Road tax you have to pay for this vehicle is:  22500.0\n"
     ]
    }
   ],
   "source": [
    "costprice = int(input(\"Enter Cost price of Bike:\"))\n",
    "if costprice > 100000:\n",
    "    roadtax = costprice * 0.15\n",
    "    print(\"Road tax you have to pay for this vehicle is: \",roadtax)\n",
    "elif costprice > 50000 and costprice <= 100000:\n",
    "    roadtax = costprice * 0.10\n",
    "    print(\"Road tax you have to pay for this vehicle is: \",roadtax)\n",
    "elif costprice <= 50000:\n",
    "    roadtax = costprice * 0.05\n",
    "    print(\"Road tax you have to pay for this vehicle is: \",roadtax)"
   ]
  },
  {
   "cell_type": "markdown",
   "id": "a1a52cb0",
   "metadata": {},
   "source": [
    "<b> Q3. Write a program to check whether an years is leap year or not."
   ]
  },
  {
   "cell_type": "code",
   "execution_count": 19,
   "id": "a381d039",
   "metadata": {},
   "outputs": [
    {
     "name": "stdout",
     "output_type": "stream",
     "text": [
      "Enter year to check leap year or not:2020\n",
      "Entered year is a leap year!\n"
     ]
    }
   ],
   "source": [
    "year=int(input(\"Enter year to check leap year or not:\"))\n",
    "if(year%4==0):\n",
    "    print(\"Entered year is a leap year!\")\n",
    "else:\n",
    "    print(\"Entered year is not a leap year!\")"
   ]
  },
  {
   "cell_type": "markdown",
   "id": "f5d41ff1",
   "metadata": {},
   "source": [
    "<b>\n",
    "Q4. Write a program to accept a number from 1 to 7 and display the name of the day like 1 for Sunday , 2 for Monday and so on."
   ]
  },
  {
   "cell_type": "code",
   "execution_count": 64,
   "id": "c0c45636",
   "metadata": {},
   "outputs": [
    {
     "name": "stdout",
     "output_type": "stream",
     "text": [
      "Enter number between 1 to 7: 7\n",
      "Saturday\n"
     ]
    }
   ],
   "source": [
    "days = [\"Sunday\",\"Monday\",\"Tuesday\",\"Wednesday\",\"Thursday\",\"Friday\",\"Saturday\"]\n",
    "number=int(input(\"Enter number between 1 and 7: \"))\n",
    "if number < 1 or number > 7:\n",
    "    print(\"Enter number between 1 and 7\")\n",
    "else:\n",
    "    if number in range(len(days)+1):\n",
    "        print(days[number-1])\n",
    "    else:\n",
    "        print(\"Enter number between 1 and 7\")"
   ]
  },
  {
   "cell_type": "markdown",
   "id": "e9097627",
   "metadata": {},
   "source": [
    "<b>\n",
    "Q5. Write a program to accept a number from 1 to 12 and display name of the month and days in that month like 1 for January and number of days 31 and so on"
   ]
  },
  {
   "cell_type": "code",
   "execution_count": 67,
   "id": "8210aff4",
   "metadata": {},
   "outputs": [
    {
     "name": "stdout",
     "output_type": "stream",
     "text": [
      "Enter number between 1 and 12: 12\n",
      "Month is December and number of days are 31\n"
     ]
    }
   ],
   "source": [
    "Months = [\"January\",\"Febuary\",\"March\",\"April\",\"May\",\"June\",\"July\",\"August\",\"September\",\"October\",\"November\",\"December\"]\n",
    "days = [31,28,31,30,31,30,31,31,30,31,30,31]\n",
    "number=int(input(\"Enter number between 1 and 12: \"))\n",
    "if number < 1 or number > 12:\n",
    "    print(\"Enter number between 1 and 12\")\n",
    "else:\n",
    "    if number in range(len(Months)+1):\n",
    "        print(\"Month is\",Months[number-1],\"and number of days are\",days[number-1])\n",
    "    else:\n",
    "        print(\"Enter number between 1 and 12\")"
   ]
  },
  {
   "cell_type": "markdown",
   "id": "14dc526f",
   "metadata": {},
   "source": [
    "<b>\n",
    "Q6. Accept any city from the user and display monument of that city.\n",
    "    \n",
    "    \n",
    "                  City                                 Monument\n",
    "    \n",
    "                  Delhi                               Red Fort\n",
    "                  Agra                                Taj Mahal\n",
    "                  Jaipur                              Jal Mahal"
   ]
  },
  {
   "cell_type": "code",
   "execution_count": 77,
   "id": "b39674b0",
   "metadata": {},
   "outputs": [
    {
     "name": "stdout",
     "output_type": "stream",
     "text": [
      "Enter any city from Delhi, Agra, and Jaipur: Delhi\n",
      "Red Fort\n"
     ]
    }
   ],
   "source": [
    "cities= {\n",
    "    \"Delhi\":\"Red Fort\",\n",
    "    \"Agra\": \"Taj Mahal\",\n",
    "    \"Jaipur\":\"Jal Mahal\"\n",
    "}\n",
    "city = input(\"Enter any city from Delhi, Agra, and Jaipur: \")\n",
    "if city in cities:\n",
    "    print(cities[city])\n",
    "else:\n",
    "    print(\"Entered city is not listed\")"
   ]
  },
  {
   "cell_type": "markdown",
   "id": "c09ab70c",
   "metadata": {},
   "source": [
    "<b>\n",
    "Q7) A company decided to give bonus of 5% to employee if his/her year of service is more than 5 years.\n",
    "    \n",
    "Ask user for their salary and year of service and print the net bonus amount."
   ]
  },
  {
   "cell_type": "code",
   "execution_count": 85,
   "id": "6a4581ee",
   "metadata": {},
   "outputs": [
    {
     "name": "stdout",
     "output_type": "stream",
     "text": [
      "Enter your Salary: ₹ 10000\n",
      "Enter your total year of service: 10\n",
      "Your net Bonus is: ₹ 5000.0\n"
     ]
    }
   ],
   "source": [
    "salary = int(input(\"Enter your Salary: ₹ \"))\n",
    "service = int(input(\"Enter your total year of service: \"))\n",
    "\n",
    "if service > 5:\n",
    "    bonus = salary * 0.05\n",
    "    net_bonus = service * bonus\n",
    "    print(\"Your net Bonus is: ₹\",net_bonus)\n",
    "else:\n",
    "    print(\"To avail bonus your service year must be greater than 5 \")\n"
   ]
  },
  {
   "cell_type": "markdown",
   "id": "c3104ec3",
   "metadata": {},
   "source": [
    "<b>\n",
    "Q8) Take input of age of 3 people by user and determine oldest and youngest among them."
   ]
  },
  {
   "cell_type": "code",
   "execution_count": 90,
   "id": "c27461eb",
   "metadata": {},
   "outputs": [
    {
     "name": "stdout",
     "output_type": "stream",
     "text": [
      "Enter Age of 1st person:10\n",
      "Enter Age of 2nd person:25\n",
      "Enter Age of 3rd person:18\n",
      "Person2 is the oldest one\n",
      "Person1 is Youngest among them\n"
     ]
    }
   ],
   "source": [
    "person1 = int(input(\"Enter Age of 1st person:\"))\n",
    "person2 = int(input(\"Enter Age of 2nd person:\"))\n",
    "person3 = int(input(\"Enter Age of 3rd person:\"))\n",
    "\n",
    "if person1 > person2 and person1 > person3:\n",
    "    print(\"Person1 is the oldest one\")\n",
    "    if person2 > person3:\n",
    "        print(\"Person3 is Youngest among them\")\n",
    "    else:\n",
    "        print(\"Person2 is Youngest among them\")\n",
    "elif person2 > person1 and person2 > person3:\n",
    "    print(\"Person2 is the oldest one\")\n",
    "    if person1 > person3:\n",
    "        print(\"Person3 is Youngest among them\")\n",
    "    else:\n",
    "        print(\"Person1 is Youngest among them\")\n",
    "elif person3 > person1 and person3 > person1:\n",
    "    print(\"Person3 is the oldest one\")\n",
    "    if person2 > person1:\n",
    "        print(\"Person1 is Youngest among them\")\n",
    "    else:\n",
    "        print(\"Person2 is Youngest among them\")"
   ]
  },
  {
   "cell_type": "markdown",
   "id": "14bda2ea",
   "metadata": {},
   "source": [
    "<b>\n",
    "Q9) Write a program to display the last digit of a number."
   ]
  },
  {
   "cell_type": "code",
   "execution_count": 116,
   "id": "bef583d7",
   "metadata": {},
   "outputs": [
    {
     "name": "stdout",
     "output_type": "stream",
     "text": [
      "Enter number between 1 and 10:7801998899\n",
      "9\n"
     ]
    }
   ],
   "source": [
    "num = input(\"Enter number between 1 and 10:\")\n",
    "for x in num:\n",
    "    res = [int(x)]\n",
    "print(res[-1])"
   ]
  },
  {
   "cell_type": "markdown",
   "id": "f80788a0",
   "metadata": {},
   "source": [
    "<b>\n",
    "10) Write a program to check whether the last digit of a number( entered by user ) is \n",
    "divisible by 3 or not."
   ]
  },
  {
   "cell_type": "code",
   "execution_count": 126,
   "id": "24758c07",
   "metadata": {},
   "outputs": [
    {
     "name": "stdout",
     "output_type": "stream",
     "text": [
      "Enter number:1\n",
      "Last digit is: 1\n",
      "1 is not divisible by 3\n"
     ]
    }
   ],
   "source": [
    "num = input(\"Enter number:\")\n",
    "for x in num:\n",
    "    res = [int(x)]\n",
    "lastdigit = res[-1]\n",
    "print(\"Last digit is:\",lastdigit)\n",
    "if lastdigit % 3 == 0:\n",
    "    print(lastdigit, \"is divisible by 3\")\n",
    "else:\n",
    "    print(lastdigit,\"is not divisible by 3\")"
   ]
  },
  {
   "cell_type": "markdown",
   "id": "2ae7ba0f",
   "metadata": {},
   "source": [
    "<b>\n",
    "11) Check the enter number is odd or even ?"
   ]
  },
  {
   "cell_type": "code",
   "execution_count": 130,
   "id": "4a0d434b",
   "metadata": {},
   "outputs": [
    {
     "name": "stdout",
     "output_type": "stream",
     "text": [
      "Enter number:11\n",
      "11 is an odd number\n"
     ]
    }
   ],
   "source": [
    "num = int(input(\"Enter number:\"))\n",
    "if num % 2 == 0:\n",
    "    print(num,\"is an even number\")\n",
    "else:\n",
    "    print(num,\"is an odd number\")"
   ]
  },
  {
   "cell_type": "markdown",
   "id": "1b62685a",
   "metadata": {},
   "source": [
    "<b>\n",
    "12) Write a program to check whether a person is eligible for voting or not.(voting age >=18)"
   ]
  },
  {
   "cell_type": "code",
   "execution_count": 135,
   "id": "afd1ac18",
   "metadata": {},
   "outputs": [
    {
     "name": "stdout",
     "output_type": "stream",
     "text": [
      "Enter your age:9\n",
      "Still you have to wait for 9 years to vote\n"
     ]
    }
   ],
   "source": [
    "Age = int(input(\"Enter your age:\"))\n",
    "if Age >= 18:\n",
    "    print(\"You are eligible for Voting\")\n",
    "else:\n",
    "    minor = 18 - Age\n",
    "    print(\"Still you have to wait for\",minor,\"years to vote\")\n",
    "    "
   ]
  },
  {
   "cell_type": "markdown",
   "id": "62d6305e",
   "metadata": {},
   "source": [
    "<b>\n",
    "13) Write a program to whether a number (accepted from user) is divisible by 2 and 3 both."
   ]
  },
  {
   "cell_type": "code",
   "execution_count": 140,
   "id": "9ba5a6fd",
   "metadata": {},
   "outputs": [
    {
     "name": "stdout",
     "output_type": "stream",
     "text": [
      "Enter number:22\n",
      "22 is an divisible by 2 only\n"
     ]
    }
   ],
   "source": [
    "num = int(input(\"Enter number:\"))\n",
    "if num % 2 == 0 and num % 3 == 0:\n",
    "    print(num,\"is divisible by both 2 and 3\")\n",
    "elif num % 2 ==0:\n",
    "    print(num,\"is an divisible by 2 only\")\n",
    "elif num % 3 ==0:\n",
    "    print(num,\"is an divisible by 3 only\")"
   ]
  },
  {
   "cell_type": "markdown",
   "id": "25a96584",
   "metadata": {},
   "source": [
    "<b>14) Write a program to find the largest number out of three numbers accepted from user"
   ]
  },
  {
   "cell_type": "code",
   "execution_count": 142,
   "id": "adc0c447",
   "metadata": {},
   "outputs": [
    {
     "name": "stdout",
     "output_type": "stream",
     "text": [
      "Enter Number1:25\n",
      "Enter Number2:68\n",
      "Enter Number3:14\n",
      "68 is the largest one\n"
     ]
    }
   ],
   "source": [
    "num1 = int(input(\"Enter Number1:\"))\n",
    "num2 = int(input(\"Enter Number2:\"))\n",
    "num3 = int(input(\"Enter Number3:\"))\n",
    "\n",
    "if num1 > num2 and num1 > num3:\n",
    "    print(num1, \"is the largest one\")\n",
    "elif num2 > num1 and num2 > num3:\n",
    "    print(num2, \"is the largest one\")\n",
    "elif num3 > num1 and num3 > num1:\n",
    "    print(num3, \"is the largest one\")"
   ]
  },
  {
   "cell_type": "markdown",
   "id": "a13eb99e",
   "metadata": {},
   "source": [
    "<b>\n",
    "15)  Accept the following from the user and calculate the percentage of class attended:\n",
    "    \n",
    "    a. Total number of working days\n",
    "    b. Total number of days for absent\n",
    "    \n",
    "    After calculating percentage show that, If the percentage is less than 75, than student will not be able to sit in exam."
   ]
  },
  {
   "cell_type": "code",
   "execution_count": 146,
   "id": "00b5664d",
   "metadata": {},
   "outputs": [
    {
     "name": "stdout",
     "output_type": "stream",
     "text": [
      "Enter total number of working days are: 100\n",
      "Total Absent days are: 25\n",
      "You are not eligible to sit in exams\n"
     ]
    }
   ],
   "source": [
    "wdays = int(input(\"Enter total number of working days are: \"))\n",
    "absent = int(input(\"Total Absent days are: \"))\n",
    "\n",
    "percent = (absent * 100) / wdays\n",
    "if percent < 75:\n",
    "    print(\"You are not eligible to sit in exams\")\n",
    "else:\n",
    "    print(\"Lets catchup in exams\")"
   ]
  },
  {
   "cell_type": "markdown",
   "id": "029575dd",
   "metadata": {},
   "source": [
    "<b>\n",
    "16) Accept the percentage from the user and display the  grade according to the following criteria:\n",
    "    \n",
    "    Below 25 —- D\n",
    "    25 to 45 —- C\n",
    "    45 to 50 —- B\n",
    "    50 to 60 –– B+\n",
    "    60 to 80 — A\n",
    "    Above 80 –- A+"
   ]
  },
  {
   "cell_type": "code",
   "execution_count": 151,
   "id": "29aa601a",
   "metadata": {},
   "outputs": [
    {
     "name": "stdout",
     "output_type": "stream",
     "text": [
      "Enter Percentage: 89\n",
      "You got A+ grade\n"
     ]
    }
   ],
   "source": [
    "marks = int(input(\"Enter Percentage: \"))\n",
    "if marks > 80:\n",
    "    print(\"You got A+ grade\")\n",
    "elif marks > 60 and marks <=80:\n",
    "    print(\"You got A grade\")\n",
    "elif marks > 50 and marks <=60:\n",
    "    print(\"You got B+ grade\")\n",
    "elif marks > 45 and marks <=50:\n",
    "    print(\"You got B grade\")\n",
    "elif marks > 25 and marks <=45:\n",
    "    print(\"You got C grade\")    \n",
    "elif marks < 25:\n",
    "    print(\"You got D grade\")"
   ]
  },
  {
   "cell_type": "markdown",
   "id": "745b2125",
   "metadata": {},
   "source": [
    "<b>\n",
    "17) Accept three numbers from the user and display the second largest number."
   ]
  },
  {
   "cell_type": "code",
   "execution_count": 153,
   "id": "5be41ccc",
   "metadata": {},
   "outputs": [
    {
     "name": "stdout",
     "output_type": "stream",
     "text": [
      "Enter Number1:10\n",
      "Enter Number2:12\n",
      "Enter Number3:8\n",
      "10 is Second largest among them\n"
     ]
    }
   ],
   "source": [
    "num1 = int(input(\"Enter Number1:\"))\n",
    "num2 = int(input(\"Enter Number2:\"))\n",
    "num3 = int(input(\"Enter Number3:\"))\n",
    "\n",
    "\n",
    "if num1 > num2 and num1 > num3:\n",
    "    if num2 > num3:\n",
    "        print(num2,\"is Second largest among them\")\n",
    "    else:\n",
    "        print(num3,\"is Second largest among them\")\n",
    "elif num2 > num1 and num2 > num3:\n",
    "    if num1 > num3:\n",
    "        print(num1,\"is Second largest among them\")\n",
    "    else:\n",
    "        print(num3,\"is Second largest among them\")\n",
    "elif num3 > num1 and num3 > num1:\n",
    "    if num2 > num1:\n",
    "        print(num2,\"is Second largest among them\")\n",
    "    else:\n",
    "        print(num1,\"is Second largest among them\")"
   ]
  },
  {
   "cell_type": "markdown",
   "id": "7215624a",
   "metadata": {},
   "source": [
    "<b>\n",
    "18) Accept three sides of triangle and check whether the triangle is possible or not.\n",
    "(triangle is possible only when sum of any two sides is greater than 3rd side)"
   ]
  },
  {
   "cell_type": "code",
   "execution_count": 157,
   "id": "8497795c",
   "metadata": {},
   "outputs": [
    {
     "name": "stdout",
     "output_type": "stream",
     "text": [
      "Enter Number1:0\n",
      "Enter Number2:0\n",
      "Enter Number3:0\n",
      "Triangle is not possible\n"
     ]
    }
   ],
   "source": [
    "num1 = int(input(\"Enter Number1:\"))\n",
    "num2 = int(input(\"Enter Number2:\"))\n",
    "num3 = int(input(\"Enter Number3:\"))\n",
    "\n",
    "if (num1 + num2) > num3:\n",
    "    print(\"Triangle is possible\")\n",
    "elif (num2 + num3) > num1:\n",
    "    print(\"Triangle is possible\")\n",
    "elif (num1 + num3) > num2:\n",
    "    print(\"Triangle is possible\")\n",
    "else:\n",
    "    print(\"Triangle is not possible\")"
   ]
  },
  {
   "cell_type": "markdown",
   "id": "7f418aed",
   "metadata": {},
   "source": [
    "<b>\n",
    "19) Accept the marks of English, Math and Science, Social Studies Subject and display the stream allotted according to following\n",
    "    \n",
    "    1) All Subjects more than 80 marks —       Science Stream\n",
    "    2) English >80 and Math, Science above 50 –Commerce Stream\n",
    "    3) English > 80 and Social studies > 80    —   Humanities"
   ]
  },
  {
   "cell_type": "code",
   "execution_count": 168,
   "id": "1c084938",
   "metadata": {},
   "outputs": [
    {
     "name": "stdout",
     "output_type": "stream",
     "text": [
      "Enter marks of English: 50\n",
      "Enter marks of Math: 50\n",
      "Enter marks of Social Studies: 50\n",
      "Any from the above mark is less than 50 so you are not allocated with any stream\n"
     ]
    }
   ],
   "source": [
    "English = int(input(\"Enter marks of English: \"))\n",
    "Math = int(input(\"Enter marks of Math: \"))\n",
    "SS = int(input(\"Enter marks of Social Studies: \"))\n",
    "\n",
    "if English >80 and Math > 80  and SS > 80:\n",
    "    print(\"You are alloted with Science Stream\")\n",
    "elif English >80 and Math > 50  and SS > 50:\n",
    "    print(\"You are alloted with Commerce Stream\")\n",
    "elif English >80 and SS > 80:\n",
    "    print(\"You are alloted with Humanities\")\n",
    "else:\n",
    "    print(\"Any from the above mark is less than 50 so you are not allocated with any stream\")"
   ]
  },
  {
   "cell_type": "markdown",
   "id": "7eb35b65",
   "metadata": {},
   "source": [
    "<b>20) Whether the triangle will be an obtuse-angle, or a right-angle or an acute-angle triangle."
   ]
  },
  {
   "cell_type": "code",
   "execution_count": 171,
   "id": "d978384c",
   "metadata": {},
   "outputs": [
    {
     "name": "stdout",
     "output_type": "stream",
     "text": [
      "Enter the degree of the triangle:89\n",
      "Given Triangle is Acute-angle triangle\n"
     ]
    }
   ],
   "source": [
    "degree = int(input(\"Enter the degree of the triangle:\"))\n",
    "\n",
    "if degree < 90:\n",
    "    print(\"Given Triangle is Acute-angle triangle\")\n",
    "elif degree == 90:\n",
    "    print(\"Given Triangle is Right-angle triangle\")\n",
    "else:\n",
    "    print(\"Given Triangle is Obtuse-angle triangle\")"
   ]
  },
  {
   "cell_type": "markdown",
   "id": "0f0020c8",
   "metadata": {},
   "source": [
    "<b>21) In this program, we input a number check if the number is positive or negative or zero and display an appropriate message."
   ]
  },
  {
   "cell_type": "code",
   "execution_count": 174,
   "id": "06e4748b",
   "metadata": {},
   "outputs": [
    {
     "name": "stdout",
     "output_type": "stream",
     "text": [
      "Enter number to check:-1\n",
      "-1 is a negative number\n"
     ]
    }
   ],
   "source": [
    "number = int(input(\"Enter number to check:\"))\n",
    "\n",
    "if number < 0:\n",
    "    print(number, \"is a negative number\")\n",
    "elif number == 0:\n",
    "    print(\"Entered number is neither negative nor positive it is\", number)\n",
    "else:\n",
    "    print(number,\"is a positive number\")\n"
   ]
  },
  {
   "cell_type": "code",
   "execution_count": null,
   "id": "d9f5e573",
   "metadata": {},
   "outputs": [],
   "source": []
  }
 ],
 "metadata": {
  "kernelspec": {
   "display_name": "Python 3 (ipykernel)",
   "language": "python",
   "name": "python3"
  },
  "language_info": {
   "codemirror_mode": {
    "name": "ipython",
    "version": 3
   },
   "file_extension": ".py",
   "mimetype": "text/x-python",
   "name": "python",
   "nbconvert_exporter": "python",
   "pygments_lexer": "ipython3",
   "version": "3.10.4"
  }
 },
 "nbformat": 4,
 "nbformat_minor": 5
}
