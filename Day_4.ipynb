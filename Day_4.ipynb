{
 "cells": [
  {
   "cell_type": "markdown",
   "id": "e0b1910d",
   "metadata": {},
   "source": [
    "<b> 1. Write a Python program to print Pascal triangle 0 up to n rows."
   ]
  },
  {
   "cell_type": "code",
   "execution_count": 18,
   "id": "a3823219",
   "metadata": {},
   "outputs": [
    {
     "name": "stdout",
     "output_type": "stream",
     "text": [
      "Enter the number of rows:5\n",
      "     1\n",
      "    1 1\n",
      "   1 2 1\n",
      "  1 3 3 1\n",
      " 1 4 6 4 1\n"
     ]
    }
   ],
   "source": [
    "n = int(input(\"Enter the number of rows:\"))  \n",
    "# first loop is for number of rows  \n",
    "for i in range(n):   \n",
    "   # adjust space  \n",
    "    print(' '*(n-i), end='')  \n",
    "   # power of 11  and covert it to string\n",
    "    power = 11 ** i\n",
    "    newstr = str(power)\n",
    "    print(' '.join(newstr))"
   ]
  },
  {
   "cell_type": "code",
   "execution_count": 20,
   "id": "17835db8",
   "metadata": {},
   "outputs": [
    {
     "name": "stdout",
     "output_type": "stream",
     "text": [
      "Enter a number of rows: 5\n",
      "    1 \n",
      "   1 1 \n",
      "  1 2 1 \n",
      " 1 3 3 1 \n",
      "1 4 6 4 1 \n"
     ]
    }
   ],
   "source": [
    "num = int(input(\"Enter a number of rows: \"))\n",
    "firstvar =1\n",
    "for i in range(1,num+1):\n",
    "    for k in range(1,num-i+1):\n",
    "        print(end=' ')\n",
    "    for j in range(0,i):\n",
    "        if i==0 or j==0:\n",
    "            firstvar = 1\n",
    "        else:\n",
    "            firstvar = firstvar * (i-j) // j\n",
    "#             print(firstvar)\n",
    "        print(firstvar, end=' ')\n",
    "    print()"
   ]
  },
  {
   "cell_type": "markdown",
   "id": "bd93a6c7",
   "metadata": {},
   "source": [
    "<b> 2. Write a program to check whether the last digit of a number( entered by user ) is divisible by 3 or not."
   ]
  },
  {
   "cell_type": "code",
   "execution_count": 78,
   "id": "8077bfcc",
   "metadata": {},
   "outputs": [
    {
     "name": "stdout",
     "output_type": "stream",
     "text": [
      "Please Enter Number: 12236\n",
      "6\n",
      "6 is divisible by 3\n"
     ]
    }
   ],
   "source": [
    "num =int(input('Please Enter Number: '))\n",
    "lastdig = num%10\n",
    "print(lastdig)\n",
    "if lastdig % 3 == 0:\n",
    "    print(lastdig,\"is divisible by 3\")\n",
    "else:\n",
    "    print(lastdig,\"is not divisible by 3\")"
   ]
  },
  {
   "cell_type": "markdown",
   "id": "4be5e26b",
   "metadata": {},
   "source": [
    "<b> 3.Write a Python program to count number of digits in a number."
   ]
  },
  {
   "cell_type": "code",
   "execution_count": 73,
   "id": "21965154",
   "metadata": {},
   "outputs": [
    {
     "name": "stdout",
     "output_type": "stream",
     "text": [
      "Please Enter Number: 12548\n",
      "Total number of digits:  5\n"
     ]
    }
   ],
   "source": [
    "num =int(input('Please Enter Number: '))\n",
    "rev = 0\n",
    "noOfDigit = 0\n",
    "temp = num\n",
    "while temp>0:\n",
    "    temp = temp//10\n",
    "    noOfDigit = noOfDigit+1\n",
    "print(\"Total number of digits: \",noOfDigit)"
   ]
  },
  {
   "cell_type": "markdown",
   "id": "f7d95df7",
   "metadata": {},
   "source": [
    "<b> 4.Write a Python program to reverse a number."
   ]
  },
  {
   "cell_type": "code",
   "execution_count": 66,
   "id": "7a28d611",
   "metadata": {},
   "outputs": [
    {
     "name": "stdout",
     "output_type": "stream",
     "text": [
      "Enter number:21\n",
      "12\n"
     ]
    }
   ],
   "source": [
    "num = int(input(\"Enter number:\"))\n",
    "rev = 0\n",
    "while num >0:\n",
    "    reminder = num % 10\n",
    "    rev = rev * 10 + reminder\n",
    "    num=num//10\n",
    "print(rev)"
   ]
  },
  {
   "cell_type": "markdown",
   "id": "5c4e81fe",
   "metadata": {},
   "source": [
    "<b> 5.Write a Python program to swap first and last digits of a number."
   ]
  },
  {
   "cell_type": "code",
   "execution_count": null,
   "id": "760fe48b",
   "metadata": {},
   "outputs": [],
   "source": [
    "num =int(input('Please Enter Number: '))\n",
    "rev = 0\n",
    "noOfDigit = 0\n",
    "temp = num\n",
    "while temp>0:\n",
    "    temp = temp//10\n",
    "    noOfDigit = noOfDigit+1\n",
    "# print(\"no of Digit:\",noOfDigit)\n",
    "if noOfDigit<2:\n",
    "    print(\"\\nIt is a Single-digit Number!\")\n",
    "elif noOfDigit == 2:\n",
    "    temp = num\n",
    "    while temp >0:\n",
    "        reminder = temp % 10\n",
    "        rev = (rev * 10) + reminder\n",
    "        temp=temp//10\n",
    "#     print(rev)\n",
    "else:    \n",
    "    temp = num\n",
    "    while temp>0:\n",
    "        rem = temp%10\n",
    "        rev = (rev*10)+rem\n",
    "        temp = temp//10\n",
    "    revNum = rev\n",
    "    rev = 0\n",
    "    temp = num\n",
    "#     print(\"else temp:\",temp)\n",
    "    noOfDigitTemp = noOfDigit\n",
    "#     print(\"else noOfDigitTemp:\",noOfDigitTemp)\n",
    "    while temp>0:\n",
    "#         print(\"else revNum:\",revNum)\n",
    "        remTemp = revNum%10\n",
    "#         print(\"else remTemp\",remTemp)\n",
    "        if noOfDigitTemp==noOfDigit:\n",
    "            rem = temp%10\n",
    "            rev = (rev*10)+rem\n",
    "#             print(\"reminder in if:\",rem)\n",
    "#             print(\"reverse in if:\",rev)\n",
    "        elif noOfDigitTemp==1:\n",
    "            rem = temp%10\n",
    "            rev = (rev*10)+rem\n",
    "            print(\"reminder in elif:\",rem)\n",
    "#             print(\"reverse in elif:\",rev)\n",
    "        else:\n",
    "            rev = (rev*10)+remTemp\n",
    "#             print(\"reverse in while else:\",rev)\n",
    "        temp = temp//10\n",
    "#         print(\"Last temp\", temp)\n",
    "        revNum = revNum//10\n",
    "#         print(\"Last revNum:\", revNum)\n",
    "        noOfDigitTemp = noOfDigitTemp-1\n",
    "#         print(\"Last noOfDigitTemp: \",noOfDigitTemp)\n",
    "    print('\\n Interchanged Digits :- {}'.format(rev))\n"
   ]
  },
  {
   "cell_type": "markdown",
   "id": "77fd7a08",
   "metadata": {},
   "source": [
    "<b>6.Write a Python program to calculate sum of digits of a number."
   ]
  },
  {
   "cell_type": "code",
   "execution_count": 5,
   "id": "326e8a23",
   "metadata": {},
   "outputs": [
    {
     "name": "stdout",
     "output_type": "stream",
     "text": [
      "Enter a number to sum: 1254\n",
      "Sum of your number is: 12\n"
     ]
    }
   ],
   "source": [
    "number = int(input(\"Enter a number to sum: \"))\n",
    "sum1 = 0\n",
    "while number !=0:\n",
    "    sum1 = sum1 + (number%10)\n",
    "    number = number // 10\n",
    "print(\"Sum of your number is:\", sum1)"
   ]
  },
  {
   "cell_type": "markdown",
   "id": "e57b929a",
   "metadata": {},
   "source": [
    "<b> 7. Write a Python program to calculate product of digits of a number."
   ]
  },
  {
   "cell_type": "code",
   "execution_count": 6,
   "id": "9169c401",
   "metadata": {},
   "outputs": [
    {
     "name": "stdout",
     "output_type": "stream",
     "text": [
      "Enter a number to sum: 125\n",
      "Product of your number is: 10\n"
     ]
    }
   ],
   "source": [
    "number = int(input(\"Enter a number to sum: \"))\n",
    "mul = 1\n",
    "while number !=0:\n",
    "    mul = mul * (number%10)\n",
    "    number = number // 10\n",
    "print(\"Product of your number is:\", mul)"
   ]
  },
  {
   "cell_type": "markdown",
   "id": "a5a92749",
   "metadata": {},
   "source": [
    "<b>8. Write a Python program to check whether a number is Armstrong number or not."
   ]
  },
  {
   "cell_type": "code",
   "execution_count": 16,
   "id": "7a60ca67",
   "metadata": {},
   "outputs": [
    {
     "name": "stdout",
     "output_type": "stream",
     "text": [
      "Please Enter Number: 160\n",
      "sum of your number is: 217\n",
      "160 is not Armstrong number!!\n"
     ]
    }
   ],
   "source": [
    "num =int(input('Please Enter Number: '))\n",
    "rev = 0\n",
    "noOfDigit = 0\n",
    "temp = num\n",
    "while temp>0:\n",
    "    temp = temp//10\n",
    "    noOfDigit = noOfDigit+1\n",
    "# print(\"Total number of digits: \",noOfDigit)\n",
    "temp = num\n",
    "sum1 = 0\n",
    "while temp !=0:\n",
    "    sum1 = sum1 + ((temp%10) ** noOfDigit)\n",
    "    temp = temp // 10\n",
    "print(\"sum of your number is:\", sum1)\n",
    "if sum1  == num:\n",
    "    print(num,\"is Armstrong number!!\")\n",
    "else:\n",
    "    print(num, \"is not Armstrong number!!\")\n"
   ]
  },
  {
   "cell_type": "markdown",
   "id": "7e255516",
   "metadata": {},
   "source": [
    "<b> Ternanry and Short - Circut"
   ]
  },
  {
   "cell_type": "code",
   "execution_count": 24,
   "id": "6f7517ac",
   "metadata": {},
   "outputs": [
    {
     "name": "stdout",
     "output_type": "stream",
     "text": [
      "Please Enter Number: 5\n",
      "Please Enter Number: 3\n",
      "print using simple method: 3\n",
      "print using tuple: 3\n",
      "print using dict: 3\n",
      "print using lambda: 3\n",
      "a is greater than b\n"
     ]
    }
   ],
   "source": [
    "a =int(input('Please Enter value of a: '))\n",
    "b =int(input('Please Enter value of b: '))\n",
    "min = a if a < b else b\n",
    "print(\"print using simple method:\",min)\n",
    "print(\"print using tuple:\", (b, a) [a < b] )\n",
    "print(\"print using dict:\",{True: a, False: b} [a < b])\n",
    "print(\"print using lambda:\",(lambda: b, lambda: a)[a < b]())\n",
    "print (\"Both a and b are equal\" if a == b else \"a is greater than b\" if a > b else \"b is greater than a\")"
   ]
  },
  {
   "cell_type": "markdown",
   "id": "ff59fdb0",
   "metadata": {},
   "source": [
    "<b> Q1. Write a program to accept percentage from the user and display the grade according to the following criteria:\n",
    "    \n",
    "     Marks                                    Grade \n",
    "     > 90                                        A\n",
    "     > 80 and <= 90                              B\n",
    "     >= 60 and <= 80                             C\n",
    "     below 60                                    D"
   ]
  },
  {
   "cell_type": "code",
   "execution_count": 35,
   "id": "895eede0",
   "metadata": {},
   "outputs": [
    {
     "name": "stdout",
     "output_type": "stream",
     "text": [
      "Enter Percentage: 0\n",
      "You got D grade\n"
     ]
    }
   ],
   "source": [
    "marks = int(input(\"Enter Percentage: \"))\n",
    "print(\"You got A grade\" if  marks >90 else \"You got B grade\" \n",
    "      if marks > 80 and marks <=90 else \"You got C grade\" \n",
    "      if marks >= 60 and marks <=80 else \"You got D grade\")"
   ]
  },
  {
   "cell_type": "code",
   "execution_count": 67,
   "id": "8066f9d9",
   "metadata": {},
   "outputs": [
    {
     "name": "stdout",
     "output_type": "stream",
     "text": [
      "geeks\n",
      "geeks\n",
      "geeks\n",
      "False\n"
     ]
    }
   ],
   "source": [
    "def check(i):\n",
    "    print (\"geeks\")\n",
    "    return i\n",
    "print (all(check(i) for i in [True,1,0,0,0]))"
   ]
  },
  {
   "cell_type": "code",
   "execution_count": 72,
   "id": "27c90045",
   "metadata": {},
   "outputs": [
    {
     "data": {
      "text/plain": [
       "True"
      ]
     },
     "execution_count": 72,
     "metadata": {},
     "output_type": "execute_result"
    }
   ],
   "source": [
    "(lambda x, y, z: x > y and y > z) (15,10,1)"
   ]
  },
  {
   "cell_type": "code",
   "execution_count": 79,
   "id": "6dcc26a3",
   "metadata": {},
   "outputs": [
    {
     "data": {
      "text/plain": [
       "'0b1011'"
      ]
     },
     "execution_count": 79,
     "metadata": {},
     "output_type": "execute_result"
    }
   ],
   "source": [
    "bin(11)"
   ]
  },
  {
   "cell_type": "code",
   "execution_count": null,
   "id": "0c87d9de",
   "metadata": {},
   "outputs": [],
   "source": []
  }
 ],
 "metadata": {
  "kernelspec": {
   "display_name": "Python 3 (ipykernel)",
   "language": "python",
   "name": "python3"
  },
  "language_info": {
   "codemirror_mode": {
    "name": "ipython",
    "version": 3
   },
   "file_extension": ".py",
   "mimetype": "text/x-python",
   "name": "python",
   "nbconvert_exporter": "python",
   "pygments_lexer": "ipython3",
   "version": "3.10.4"
  }
 },
 "nbformat": 4,
 "nbformat_minor": 5
}
