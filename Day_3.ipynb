{
 "cells": [
  {
   "cell_type": "markdown",
   "id": "b08d451f",
   "metadata": {},
   "source": [
    "<b> 34. Write a Python program to print all Strong numbers between 1 to n."
   ]
  },
  {
   "cell_type": "code",
   "execution_count": 180,
   "id": "92b9645e",
   "metadata": {},
   "outputs": [
    {
     "name": "stdout",
     "output_type": "stream",
     "text": [
      "Please Enter the Minimum Value: 1\n",
      "Please Enter the Maximum Value: 160\n",
      "Strong Numbers between given range:1 2 145 "
     ]
    }
   ],
   "source": [
    "minimum = int(input(\"Please Enter the Minimum Value: \"))\n",
    "maximum = int(input(\"Please Enter the Maximum Value: \"))\n",
    "print(\"Strong Numbers between given range:\", end='')\n",
    "for Number in range(minimum, maximum):\n",
    "    Temp = Number\n",
    "    Sum = 0\n",
    "    while(Temp > 0):\n",
    "        Factorial = 1\n",
    "        i = 0\n",
    "        Reminder = Temp % 10\n",
    "        while(Reminder > i ):\n",
    "            Factorial = Factorial * Reminder\n",
    "            Reminder -= 1\n",
    "        Sum = Sum + Factorial\n",
    "        Temp = Temp // 10\n",
    "    \n",
    "    if (Sum == Number):\n",
    "        print(Number, end = ' ') "
   ]
  },
  {
   "cell_type": "markdown",
   "id": "e7fa9e1b",
   "metadata": {},
   "source": [
    "<b> 35. Write a Python program to print Fibonacci series up to n terms."
   ]
  },
  {
   "cell_type": "code",
   "execution_count": 24,
   "id": "b4b47e59",
   "metadata": {},
   "outputs": [
    {
     "name": "stdout",
     "output_type": "stream",
     "text": [
      " Please Enter the nth Value: 10\n",
      "Fibonacci Series: 0 1 1 2 3 5 8 13 21 34 \n"
     ]
    }
   ],
   "source": [
    "num = int(input(\"Please Enter the nth Value: \"))\n",
    "n1, n2 = 0, 1\n",
    "print(\"Fibonacci Series:\", n1, n2, end=\" \")\n",
    "for i in range(2, num):\n",
    "    n3 = n1 + n2\n",
    "    n1 = n2\n",
    "    n2 = n3\n",
    "    print(n3, end=\" \")\n",
    "\n",
    "print()"
   ]
  },
  {
   "cell_type": "markdown",
   "id": "0372e98b",
   "metadata": {},
   "source": [
    "<b> 36. Write a Python program to find one's complement of a binary number."
   ]
  },
  {
   "cell_type": "code",
   "execution_count": 181,
   "id": "90b372bc",
   "metadata": {},
   "outputs": [
    {
     "name": "stdout",
     "output_type": "stream",
     "text": [
      "Enter binary number: 110\n",
      "1's compliment is -  001\n"
     ]
    }
   ],
   "source": [
    "n=int(input(\"Enter binary number: \"))\n",
    "c1=\"\"\n",
    "while(n):\n",
    "#     print(n)\n",
    "    rem=n%10\n",
    "#     print(t)\n",
    "    if rem==1:\n",
    "        c1=c1+\"0\"\n",
    "#         print(c1)\n",
    "    else:\n",
    "        c1=c1+\"1\"\n",
    "#         print(c1)\n",
    "    n=int(n/10)\n",
    "#     print(n)\n",
    "print(\"1's compliment is - \",c1[::-1])"
   ]
  },
  {
   "cell_type": "markdown",
   "id": "23e50924",
   "metadata": {},
   "source": [
    "<b> 37. Write a Python program to find two's complement of a binary number."
   ]
  },
  {
   "cell_type": "code",
   "execution_count": 104,
   "id": "214fbf18",
   "metadata": {},
   "outputs": [
    {
     "name": "stdout",
     "output_type": "stream",
     "text": [
      "Enter binary number:1001\n",
      "2's compliment is -  0111\n"
     ]
    }
   ],
   "source": [
    "str=input(\"Enter binary number:\")\n",
    "n = len(str)\n",
    "# print(n)\n",
    "# Traverse the string to get first'1' from the last of string\n",
    "i = n - 1\n",
    "# print(\"value of i: \",i)\n",
    "while(i >= 0):\n",
    "    if (str[i] == '1'):\n",
    "#         print(str)\n",
    "        break\n",
    "    i -= 1\n",
    "#     print(\"Updated value of i: \", i)\n",
    "#     print(\"value of i: \",i)\n",
    "# Continue traversal after the position of first '1'\n",
    "k = i - 1\n",
    "# print(\"Value of k:\",k)\n",
    "while(k >= 0):\n",
    "    # Just flip the values\n",
    "    if (str[k] == '1'):\n",
    "        str = list(str)\n",
    "#         print(\"string in if:\",str)\n",
    "        str[k] = '0'\n",
    "        str = ''.join(str)\n",
    "#         print(\"string in if join:\",str)\n",
    "    else:\n",
    "        str = list(str)\n",
    "#         print(\"string in else:\",str)\n",
    "        str[k] = '1'\n",
    "        str = ''.join(str)\n",
    "#         print(\"string in else join:\",str)\n",
    "    k -= 1\n",
    "print(\"2's compliment is - \",str)"
   ]
  },
  {
   "cell_type": "markdown",
   "id": "813148a2",
   "metadata": {},
   "source": [
    "<b> 38. Write a Python program to convert Binary to Octal number system."
   ]
  },
  {
   "cell_type": "code",
   "execution_count": 171,
   "id": "77a1154c",
   "metadata": {},
   "outputs": [
    {
     "name": "stdout",
     "output_type": "stream",
     "text": [
      "Enter a binary number: 1001\n",
      "decimal value  9\n",
      "octal value:  11\n"
     ]
    }
   ],
   "source": [
    "binary = int(input(\"Enter a binary number: \"))\n",
    "octal = 0\n",
    "decimal = 0\n",
    "i = 0\n",
    "while (binary != 0):\n",
    "    decimal = decimal + (binary % 10) * (2**i)\n",
    "#     print(decimal)\n",
    "    i += 1\n",
    "    binary = binary // 10\n",
    "print(\"decimal value \", decimal)\n",
    "i = 1\n",
    "while (decimal != 0):\n",
    "    octal = octal + (decimal % 8) * i\n",
    "    decimal = decimal // 8\n",
    "    i = i * 10\n",
    "print(\"octal value: \", octal)"
   ]
  },
  {
   "cell_type": "markdown",
   "id": "b7d2de5b",
   "metadata": {},
   "source": [
    "<b> 39. Write a Python program to convert Binary to Decimal number system."
   ]
  },
  {
   "cell_type": "code",
   "execution_count": 105,
   "id": "e0631e83",
   "metadata": {},
   "outputs": [
    {
     "name": "stdout",
     "output_type": "stream",
     "text": [
      "Enter a binary number: 1001\n",
      "decimal value  9\n"
     ]
    }
   ],
   "source": [
    "binary = int(input(\"Enter a binary number: \"))\n",
    "decimal = 0\n",
    "i = 0\n",
    "while (binary != 0):\n",
    "    decimal = decimal + (binary % 10) * (2**i)\n",
    "#     print(decimal)\n",
    "    i += 1\n",
    "    binary = binary // 10\n",
    "print(\"decimal value \", decimal)"
   ]
  },
  {
   "cell_type": "markdown",
   "id": "1ac1f8cc",
   "metadata": {},
   "source": [
    "<b> 40. Write a Python program to convert Binary to Hexadecimal number system."
   ]
  },
  {
   "cell_type": "code",
   "execution_count": 113,
   "id": "051b3df7",
   "metadata": {},
   "outputs": [
    {
     "name": "stdout",
     "output_type": "stream",
     "text": [
      "Enter a binary number: 0111000101001\n",
      "hexadecimal value:  1429\n"
     ]
    }
   ],
   "source": [
    "binary = int(input(\"Enter a binary number: \"))\n",
    "hexadecimal = 0\n",
    "decimal = 0\n",
    "i = 0\n",
    "while (binary != 0):\n",
    "    decimal = decimal + (binary % 10) * (2**i)\n",
    "#     print(decimal)\n",
    "    i += 1\n",
    "    binary = binary // 10\n",
    "# print(\"decimal value \", decimal)\n",
    "i = 1\n",
    "while (decimal != 0):\n",
    "    hexadecimal = hexadecimal + (decimal % 16) * i\n",
    "    decimal = decimal // 16\n",
    "    i = i * 10\n",
    "print(\"hexadecimal value: \", hexadecimal)"
   ]
  },
  {
   "cell_type": "markdown",
   "id": "d2fe16e6",
   "metadata": {},
   "source": [
    "<b> 41. Write a Python program to convert Octal to Binary number system."
   ]
  },
  {
   "cell_type": "code",
   "execution_count": 172,
   "id": "af2f38e4",
   "metadata": {},
   "outputs": [
    {
     "name": "stdout",
     "output_type": "stream",
     "text": [
      "Enter Octal number: 11\n",
      "decimal value:  9\n",
      "binary value  1001\n"
     ]
    }
   ],
   "source": [
    "octal = int(input(\"Enter Octal number: \"))\n",
    "binary = 0\n",
    "decimal = 0\n",
    "i = 0\n",
    "while (octal != 0):\n",
    "    decimal = decimal + (octal % 10) * (8**i)\n",
    "    octal = octal // 10\n",
    "    i +=1\n",
    "print(\"decimal value: \", decimal)\n",
    "j=0\n",
    "while (decimal != 0):\n",
    "    binary = binary + (decimal % 2) * (10**j)\n",
    "    decimal = decimal // 2\n",
    "    j +=1\n",
    "print(\"binary value \", binary)"
   ]
  },
  {
   "cell_type": "markdown",
   "id": "565829d2",
   "metadata": {},
   "source": [
    "<b> 42. Write a Python program to convert Octal to Decimal number system."
   ]
  },
  {
   "cell_type": "code",
   "execution_count": 123,
   "id": "91d06ecf",
   "metadata": {},
   "outputs": [
    {
     "name": "stdout",
     "output_type": "stream",
     "text": [
      "Enter Octal number: 11\n",
      "decimal value:  9\n"
     ]
    }
   ],
   "source": [
    "octal = int(input(\"Enter Octal number: \"))\n",
    "decimal = 0\n",
    "i = 0\n",
    "while (octal != 0):\n",
    "    decimal = decimal + (octal % 10) * (8**i)\n",
    "    octal = octal // 10\n",
    "    i +=1\n",
    "print(\"decimal value: \", decimal)"
   ]
  },
  {
   "cell_type": "markdown",
   "id": "cf8dc44d",
   "metadata": {},
   "source": [
    "<b> 43. Write a Python program to convert Octal to Hexadecimal number system."
   ]
  },
  {
   "cell_type": "code",
   "execution_count": 127,
   "id": "d1a6cd5b",
   "metadata": {},
   "outputs": [
    {
     "name": "stdout",
     "output_type": "stream",
     "text": [
      "Enter Octal number: 121\n",
      "decimal value:  81\n",
      "hexadecimal value:  51\n"
     ]
    }
   ],
   "source": [
    "octal = int(input(\"Enter Octal number: \"))\n",
    "decimal = 0\n",
    "hexadecimal = 0\n",
    "i = 0\n",
    "while (octal != 0):\n",
    "    decimal = decimal + (octal % 10) * (8**i)\n",
    "    octal = octal // 10\n",
    "    i +=1\n",
    "print(\"decimal value: \", decimal)\n",
    "i = 1\n",
    "while (decimal != 0):\n",
    "    hexadecimal = hexadecimal + (decimal % 16) * i\n",
    "    decimal = decimal // 16\n",
    "    i = i * 10\n",
    "print(\"hexadecimal value: \", hexadecimal)"
   ]
  },
  {
   "cell_type": "markdown",
   "id": "ed099585",
   "metadata": {},
   "source": [
    "<b> 44. Write a Python program to convert Decimal to Binary number system."
   ]
  },
  {
   "cell_type": "code",
   "execution_count": 145,
   "id": "7f0d86e6",
   "metadata": {},
   "outputs": [
    {
     "name": "stdout",
     "output_type": "stream",
     "text": [
      "Enter decimal number: 11\n",
      "Binary value:  1011\n"
     ]
    }
   ],
   "source": [
    "decimal = int(input(\"Enter decimal number: \"))\n",
    "binary = 0\n",
    "i = 0\n",
    "while (decimal > 0):\n",
    "    binary = binary + (decimal % 2) * (10**i)\n",
    "    decimal = decimal // 2\n",
    "    i +=1\n",
    "print(\"Binary value: \",binary)"
   ]
  },
  {
   "cell_type": "markdown",
   "id": "154a4227",
   "metadata": {},
   "source": [
    "<b> 45. Write a Python program to convert Decimal to Octal number system."
   ]
  },
  {
   "cell_type": "code",
   "execution_count": 157,
   "id": "225d7adc",
   "metadata": {},
   "outputs": [
    {
     "name": "stdout",
     "output_type": "stream",
     "text": [
      "Enter decimal number: 15\n",
      "Octal value:  17\n"
     ]
    }
   ],
   "source": [
    "decimal = int(input(\"Enter decimal number: \"))\n",
    "octal = 0\n",
    "i = 0\n",
    "while (decimal > 0):\n",
    "    octal = octal + (decimal % 8) * (10**i)\n",
    "    decimal = decimal // 8\n",
    "    i +=1\n",
    "print(\"Octal value: \",octal)"
   ]
  },
  {
   "cell_type": "markdown",
   "id": "e63b3724",
   "metadata": {},
   "source": [
    "<b> 46. Write a Python program to convert Decimal to Hexadecimal number system."
   ]
  },
  {
   "cell_type": "code",
   "execution_count": 163,
   "id": "9294c96b",
   "metadata": {},
   "outputs": [
    {
     "name": "stdout",
     "output_type": "stream",
     "text": [
      "Enter decimal number: 127\n",
      "hexadecimal value:  85\n"
     ]
    }
   ],
   "source": [
    "decimal = int(input(\"Enter decimal number: \"))\n",
    "hexadecimal = 0\n",
    "i = 1\n",
    "while (decimal != 0):\n",
    "    hexadecimal = hexadecimal + (decimal % 16) * i\n",
    "    decimal = decimal // 16\n",
    "    i = i * 10\n",
    "print(\"hexadecimal value: \", hexadecimal)"
   ]
  },
  {
   "cell_type": "markdown",
   "id": "765c7b87",
   "metadata": {},
   "source": [
    "<b> 47. Write a Python program to convert Hexadecimal to Binary number system."
   ]
  },
  {
   "cell_type": "code",
   "execution_count": 165,
   "id": "5f863932",
   "metadata": {},
   "outputs": [
    {
     "name": "stdout",
     "output_type": "stream",
     "text": [
      "Enter Hexadecimal number: 225\n",
      "decimal value:  549\n",
      "Binary value:  1000100101\n"
     ]
    }
   ],
   "source": [
    "hexadec = int(input(\"Enter Hexadecimal number: \"))\n",
    "binary = 0\n",
    "decimal = 0\n",
    "i = 0\n",
    "while (hexadec != 0):\n",
    "    decimal = decimal + (hexadec % 10) * (16**i)\n",
    "    hexadec = hexadec // 10\n",
    "    i +=1\n",
    "print(\"decimal value: \", decimal)\n",
    "j = 0\n",
    "while (decimal > 0):\n",
    "    binary = binary + (decimal % 2) * (10**j)\n",
    "    decimal = decimal // 2\n",
    "    j +=1\n",
    "print(\"Binary value: \",binary)"
   ]
  },
  {
   "cell_type": "markdown",
   "id": "8a486cc0",
   "metadata": {},
   "source": [
    "<b>48. Write a Python program to convert Hexadecimal to Octal number system."
   ]
  },
  {
   "cell_type": "code",
   "execution_count": 166,
   "id": "8dcf1e95",
   "metadata": {},
   "outputs": [
    {
     "name": "stdout",
     "output_type": "stream",
     "text": [
      "Enter Hexadecimal number: 125\n",
      "decimal value:  293\n",
      "Octal value:  445\n"
     ]
    }
   ],
   "source": [
    "hexadec = int(input(\"Enter Hexadecimal number: \"))\n",
    "decimal = 0\n",
    "i = 0\n",
    "while (hexadec != 0):\n",
    "    decimal = decimal + (hexadec % 10) * (16**i)\n",
    "    hexadec = hexadec // 10\n",
    "    i +=1\n",
    "print(\"decimal value: \", decimal)\n",
    "octal = 0\n",
    "j = 0\n",
    "while (decimal > 0):\n",
    "    octal = octal + (decimal % 8) * (10**j)\n",
    "    decimal = decimal // 8\n",
    "    j +=1\n",
    "print(\"Octal value: \",octal)"
   ]
  },
  {
   "cell_type": "markdown",
   "id": "28e78a30",
   "metadata": {},
   "source": [
    "<b> 49. Write a Python program to convert Hexadecimal to Decimal number system."
   ]
  },
  {
   "cell_type": "code",
   "execution_count": 167,
   "id": "fb502f83",
   "metadata": {},
   "outputs": [
    {
     "name": "stdout",
     "output_type": "stream",
     "text": [
      "Enter Hexadecimal number: 125\n",
      "decimal value:  293\n"
     ]
    }
   ],
   "source": [
    "hexadec = int(input(\"Enter Hexadecimal number: \"))\n",
    "decimal = 0\n",
    "i = 0\n",
    "while (hexadec != 0):\n",
    "    decimal = decimal + (hexadec % 10) * (16**i)\n",
    "    hexadec = hexadec // 10\n",
    "    i +=1\n",
    "print(\"decimal value: \", decimal)"
   ]
  },
  {
   "cell_type": "markdown",
   "id": "3587e317",
   "metadata": {},
   "source": [
    "<b> 50. Write a Python program to print Pascal triangle 0 up to n rows."
   ]
  },
  {
   "cell_type": "code",
   "execution_count": null,
   "id": "373a184a",
   "metadata": {},
   "outputs": [],
   "source": [
    "num = int(input(\"Enter number of rows: \"))\n",
    "for i in range(num):\n",
    "    for j in range(num-1):\n",
    "        print(\" \")\n",
    "    for j in range(i):\n",
    "        k = 0\n",
    "        fact = 1\n",
    "        while j > k:\n",
    "            fact = fact * j\n",
    "            j -= 1\n",
    "        print(fact)\n",
    "#nCr = n! / (n-r)!r!\n",
    "  print(factorial(i)//(factorial(j)*factorial(i-j)), end=\" \")"
   ]
  },
  {
   "cell_type": "markdown",
   "id": "d8ac90c7",
   "metadata": {},
   "source": [
    "<b> <h1> Patterns </h1>"
   ]
  },
  {
   "cell_type": "code",
   "execution_count": null,
   "id": "2e2352c2",
   "metadata": {},
   "outputs": [],
   "source": []
  }
 ],
 "metadata": {
  "kernelspec": {
   "display_name": "Python 3 (ipykernel)",
   "language": "python",
   "name": "python3"
  },
  "language_info": {
   "codemirror_mode": {
    "name": "ipython",
    "version": 3
   },
   "file_extension": ".py",
   "mimetype": "text/x-python",
   "name": "python",
   "nbconvert_exporter": "python",
   "pygments_lexer": "ipython3",
   "version": "3.10.4"
  }
 },
 "nbformat": 4,
 "nbformat_minor": 5
}
