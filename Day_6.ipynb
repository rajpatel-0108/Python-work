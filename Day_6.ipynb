{
 "cells": [
  {
   "cell_type": "markdown",
   "id": "6dfc89f0",
   "metadata": {},
   "source": [
    "<b> Hollow Half Pyramid"
   ]
  },
  {
   "cell_type": "code",
   "execution_count": 8,
   "id": "b289b6bd",
   "metadata": {},
   "outputs": [
    {
     "name": "stdout",
     "output_type": "stream",
     "text": [
      "Please Enter Number of rows: 5\n",
      "1 \n",
      "1 2 \n",
      "1   3 \n",
      "1     4 \n",
      "1 2 3 4 5 \n"
     ]
    }
   ],
   "source": [
    "num =int(input('Please Enter Number of rows: '))\n",
    "for i in range(num):\n",
    "    for j in range(i+1):\n",
    "        if j==0 or j==i or i==num-1:\n",
    "            print(j+1, end=' ')\n",
    "        else:\n",
    "            print(\" \", end=' ')\n",
    "    print()"
   ]
  },
  {
   "cell_type": "markdown",
   "id": "d19ef03e",
   "metadata": {},
   "source": [
    "<b> Hollow inverted Half Pyramid"
   ]
  },
  {
   "cell_type": "code",
   "execution_count": 79,
   "id": "87317a73",
   "metadata": {},
   "outputs": [
    {
     "name": "stdout",
     "output_type": "stream",
     "text": [
      "Please Enter Number of rows: 5\n",
      "1 2 3 4 5 \n",
      "2     5 \n",
      "3   5 \n",
      "4 5 \n",
      "5 \n"
     ]
    }
   ],
   "source": [
    "num =int(input('Please Enter Number of rows: '))\n",
    "for i in range(num,0,-1):\n",
    "    for j in range(i,0,-1):\n",
    "        if i==num:\n",
    "            print(i-j+1,end=' ')\n",
    "        elif j==1:\n",
    "            print(num, end=' ')\n",
    "        elif j==i:\n",
    "            print(num-j+1, end=' ')\n",
    "        else:\n",
    "            print(\" \", end=' ')\n",
    "    print()"
   ]
  },
  {
   "cell_type": "code",
   "execution_count": 81,
   "id": "ea734108",
   "metadata": {},
   "outputs": [
    {
     "name": "stdout",
     "output_type": "stream",
     "text": [
      "Please Enter Number of rows: 5\n",
      "1 2 3 4 5 \n",
      "2 3 4 5 \n",
      "3 4 5 \n",
      "4 5 \n",
      "5 \n"
     ]
    }
   ],
   "source": [
    "num =int(input('Please Enter Number of rows: '))\n",
    "for i in range(num,0,-1):\n",
    "    for j in range(i,0,-1):\n",
    "        print(num-j+1, end=' ')\n",
    "    print()"
   ]
  },
  {
   "cell_type": "markdown",
   "id": "80cf3fc4",
   "metadata": {},
   "source": [
    "<b> Hollow Full Pyramid"
   ]
  },
  {
   "cell_type": "code",
   "execution_count": 38,
   "id": "c7aeba06",
   "metadata": {},
   "outputs": [
    {
     "name": "stdout",
     "output_type": "stream",
     "text": [
      "Please Enter Number of rows: 5\n",
      "    1 \n",
      "   1 2 \n",
      "  1   3 \n",
      " 1     4 \n",
      "1 2 3 4 5 \n"
     ]
    }
   ],
   "source": [
    "num =int(input('Please Enter Number of rows: '))\n",
    "for i in range(num):\n",
    "    for j in range(num-i-1):\n",
    "        print('', end=' ')\n",
    "    for j in range(i+1):\n",
    "        if j==0 or j==i or i==num-1:\n",
    "            print(j+1, end=' ')\n",
    "        else:\n",
    "            print(\" \", end=' ')\n",
    "    print()"
   ]
  },
  {
   "cell_type": "markdown",
   "id": "f5d28893",
   "metadata": {},
   "source": [
    "<b> Inverted Half Pyramid"
   ]
  },
  {
   "cell_type": "code",
   "execution_count": 59,
   "id": "fbf661ad",
   "metadata": {},
   "outputs": [
    {
     "name": "stdout",
     "output_type": "stream",
     "text": [
      "Please Enter Number of rows: 5\n",
      "1 2 3 4 5 \n",
      "1 2 3 4 \n",
      "1 2 3 \n",
      "1 2 \n",
      "1 \n"
     ]
    }
   ],
   "source": [
    "num =int(input('Please Enter Number of rows: '))\n",
    "for i in range(num,0,-1):\n",
    "    for j in range(i,0,-1):  \n",
    "        print(i-j+1, end=' ')\n",
    "    print()"
   ]
  },
  {
   "cell_type": "markdown",
   "id": "05038935",
   "metadata": {},
   "source": [
    "<b> Half Pyramid"
   ]
  },
  {
   "cell_type": "code",
   "execution_count": 91,
   "id": "77e9ba3e",
   "metadata": {},
   "outputs": [
    {
     "name": "stdout",
     "output_type": "stream",
     "text": [
      "Please Enter Number of rows: 5\n",
      "1 \n",
      "1 2 \n",
      "1 2 3 \n",
      "1 2 3 4 \n",
      "1 2 3 4 5 \n"
     ]
    }
   ],
   "source": [
    "num =int(input('Please Enter Number of rows: '))\n",
    "for i in range(num):\n",
    "    for j in range(i+1):\n",
    "        print(j+1, end=' ')\n",
    "    print()"
   ]
  },
  {
   "cell_type": "markdown",
   "id": "b2a4f2e0",
   "metadata": {},
   "source": [
    "<b> Full Pyramid"
   ]
  },
  {
   "cell_type": "code",
   "execution_count": 120,
   "id": "153f73ff",
   "metadata": {},
   "outputs": [
    {
     "name": "stdout",
     "output_type": "stream",
     "text": [
      "Please Enter Number of rows: 5\n",
      "        1 \n",
      "      2 3 2 \n",
      "    3 4 5 4 3 \n",
      "  4 5 6 7 6 5 4 \n",
      "5 6 7 8 9 8 7 6 5 \n"
     ]
    }
   ],
   "source": [
    "num =int(input('Please Enter Number of rows: '))\n",
    "for i in range(num):\n",
    "    for j in range(num-i-1):\n",
    "        print(' ', end=' ')\n",
    "    for j in range(i+1):\n",
    "        print(j+i+1, end=' ')\n",
    "    for j in range(i,0,-1):\n",
    "        print(i+j, end=' ')\n",
    "    print()"
   ]
  },
  {
   "cell_type": "markdown",
   "id": "ba8d0a63",
   "metadata": {},
   "source": [
    "<b> Different types of Palindrome Pyramid Patterns"
   ]
  },
  {
   "cell_type": "code",
   "execution_count": 126,
   "id": "e56c1fc7",
   "metadata": {},
   "outputs": [
    {
     "name": "stdout",
     "output_type": "stream",
     "text": [
      "Please Enter Number of rows: 5\n",
      "        1 \n",
      "      1 2 1 \n",
      "    1 2 3 2 1 \n",
      "  1 2 3 4 3 2 1 \n",
      "1 2 3 4 5 4 3 2 1 \n"
     ]
    }
   ],
   "source": [
    "num =int(input('Please Enter Number of rows: '))\n",
    "for i in range(num):\n",
    "    for j in range(num-i-1):\n",
    "        print(' ', end=' ')\n",
    "    for j in range(i+1):\n",
    "        print(j+1, end=' ')\n",
    "    for j in range(i,0,-1):\n",
    "        print(j, end=' ')\n",
    "    print()"
   ]
  },
  {
   "cell_type": "code",
   "execution_count": 189,
   "id": "efdc539a",
   "metadata": {},
   "outputs": [
    {
     "name": "stdout",
     "output_type": "stream",
     "text": [
      "Please Enter the number of rows:5\n",
      "********1********\n",
      "*******2*2*******\n",
      "******3*3*3******\n",
      "*****4*4*4*4*****\n",
      "****5*5*5*5*5****\n"
     ]
    }
   ],
   "source": [
    "num = int(input(\"Please Enter the number of rows:\")) \n",
    "for i in range(num):  \n",
    "    for j in range(num-i+3):\n",
    "        print('*',end=\"\")  \n",
    "    for j in range(0, i + 1):  \n",
    "        print(i+1, end=\"*\")\n",
    "    for j in range(num-i+2):\n",
    "        print('*', end='')\n",
    "    print(\"\") "
   ]
  },
  {
   "cell_type": "code",
   "execution_count": 190,
   "id": "01dd6c1b",
   "metadata": {},
   "outputs": [
    {
     "name": "stdout",
     "output_type": "stream",
     "text": [
      "Please Enter Number of rows: 5\n",
      "1 \n",
      "1 2 1 \n",
      "1 2 3 2 1 \n",
      "1 2 3 4 3 2 1 \n",
      "1 2 3 4 5 4 3 2 1 \n"
     ]
    }
   ],
   "source": [
    "num =int(input('Please Enter Number of rows: '))\n",
    "for i in range(num):\n",
    "    for j in range(i+1):\n",
    "        print(j+1, end=' ')\n",
    "    for j in range(i,0,-1):\n",
    "        print(j, end=' ')\n",
    "    print()"
   ]
  },
  {
   "cell_type": "code",
   "execution_count": 244,
   "id": "4af50d36",
   "metadata": {},
   "outputs": [
    {
     "name": "stdout",
     "output_type": "stream",
     "text": [
      "Please Enter Number of rows: 5\n",
      "A \n",
      "A B A \n",
      "A B C B A \n",
      "A B C D C B A \n",
      "A B C D E D C B A \n"
     ]
    }
   ],
   "source": [
    "a=65\n",
    "b=65\n",
    "num =int(input('Please Enter Number of rows: '))\n",
    "for i in range(num):\n",
    "    for j in range(a,a+i+1):\n",
    "        print(chr(j), end=' ')\n",
    "    for j in range(a+i,a,-1):\n",
    "        print(chr(j-1), end=' ')\n",
    "    print()"
   ]
  },
  {
   "cell_type": "code",
   "execution_count": 351,
   "id": "4915c914",
   "metadata": {},
   "outputs": [
    {
     "name": "stdout",
     "output_type": "stream",
     "text": [
      "Please Enter Number of rows: 4\n",
      "1\n",
      "2*2\n",
      "3*3*3\n",
      "4*4*4*4\n",
      "4*4*4*4\n",
      "3*3*3\n",
      "2*2\n",
      "1\n"
     ]
    }
   ],
   "source": [
    "num =int(input('Please Enter Number of rows: '))\n",
    "for i in range(num):\n",
    "    for j in range(i+1):\n",
    "        if j == 0:\n",
    "            print(i+1,end='')\n",
    "        else:\n",
    "            print('*',end='')\n",
    "            print(i+1,end='')        \n",
    "    print()\n",
    "for i in range(num,0,-1):\n",
    "    for j in range(i,0,-1):\n",
    "        if j == i:\n",
    "            print(i,end='')\n",
    "        else:\n",
    "            print('*',end='')\n",
    "            print(i,end='') \n",
    "    print()"
   ]
  },
  {
   "cell_type": "code",
   "execution_count": 397,
   "id": "424d9b32",
   "metadata": {},
   "outputs": [
    {
     "name": "stdout",
     "output_type": "stream",
     "text": [
      "Please Enter Number of rows: 4\n",
      "1\n",
      "2*3\n",
      "4*5*6\n",
      "7*8*9*10\n",
      "10*9*8*7\n",
      "6*5*4\n",
      "3*2\n",
      "1\n"
     ]
    }
   ],
   "source": [
    "num =int(input('Please Enter Number of rows: '))\n",
    "k=0\n",
    "for i in range(num):\n",
    "    for j in range(i+1):\n",
    "        k +=1\n",
    "        if j == 0:\n",
    "            print(k,end='')\n",
    "        else:\n",
    "            print('*',end='')\n",
    "            print(k,end='')        \n",
    "    print()\n",
    "for i in range(num,0,-1):\n",
    "    for j in range(i,0,-1):\n",
    "        k-=1\n",
    "        if j == i:\n",
    "            print(k+1,end='')\n",
    "        else:\n",
    "            print('*',end='')\n",
    "            print(k+1,end='') \n",
    "    print()"
   ]
  },
  {
   "cell_type": "code",
   "execution_count": 535,
   "id": "adae5711",
   "metadata": {},
   "outputs": [
    {
     "name": "stdout",
     "output_type": "stream",
     "text": [
      "Please Enter Number of rows: 4\n",
      "1 \n",
      "2 3 \n",
      "4 5 6 \n",
      "7 8 9 10 \n",
      "7 8 9 10 \n",
      "11 12 13 \n",
      "14 15 \n",
      "16 \n"
     ]
    }
   ],
   "source": [
    "num =int(input('Please Enter Number of rows: '))\n",
    "k=0\n",
    "for i in range(num):\n",
    "    for j in range(i+1):\n",
    "        k +=1\n",
    "        print(k,end=' ')        \n",
    "    print()\n",
    "    \n",
    "for i in range(num,0,-1):\n",
    "    for j in range(i,0,-1):\n",
    "        nk = k-num+1\n",
    "        temp = nk\n",
    "        print(nk,end=' ')\n",
    "        k+=1\n",
    "    print()"
   ]
  },
  {
   "cell_type": "code",
   "execution_count": 534,
   "id": "7c60b20d",
   "metadata": {},
   "outputs": [
    {
     "name": "stdout",
     "output_type": "stream",
     "text": [
      "Please Enter Number of rows: 4\n",
      "29 28 27 26 \n",
      "25 24 23 \n",
      "22 21 \n",
      "20 \n"
     ]
    }
   ],
   "source": [
    "num =int(input('Please Enter Number of rows: '))\n",
    "\n",
    "for i in range(1,num+1):\n",
    "    for j in range(num-i+1,0,-1):\n",
    "        k-=1\n",
    "        print(k,end=' ') \n",
    "    print()"
   ]
  },
  {
   "cell_type": "code",
   "execution_count": 462,
   "id": "02a0ba72",
   "metadata": {},
   "outputs": [
    {
     "name": "stdout",
     "output_type": "stream",
     "text": [
      "Please Enter Number of rows: 4\n",
      "* \n",
      "* 1 * \n",
      "* 1 2 1 * \n",
      "* 1 2 3 2 1 * \n",
      "* 1 2 3 4 3 2 1 * \n",
      "* 1 2 3 2 1 * \n",
      "* 1 2 1 * \n",
      "* 1 * \n",
      "* \n"
     ]
    }
   ],
   "source": [
    "num =int(input('Please Enter Number of rows: '))\n",
    "print('*',end=' ')\n",
    "print()\n",
    "for i in range(num):\n",
    "    print('*',end=' ')\n",
    "    for j in range(i+1):\n",
    "        print(j+1, end=' ')\n",
    "    for j in range(i,0,-1):\n",
    "        print(j, end=' ')\n",
    "    print('*',end=' ')\n",
    "    print()\n",
    "for i in range(num-1,0,-1):\n",
    "    print('*',end=' ')\n",
    "    for j in range(1,i):\n",
    "        print(j, end=' ')\n",
    "    for j in range(i,0,-1):\n",
    "        print(j, end=' ')\n",
    "    print('*',end=' ')\n",
    "    print()\n",
    "print('*',end=' ')\n",
    "print()"
   ]
  },
  {
   "cell_type": "code",
   "execution_count": 504,
   "id": "7fa133cf",
   "metadata": {},
   "outputs": [
    {
     "name": "stdout",
     "output_type": "stream",
     "text": [
      "Please Enter Number of rows: 4\n",
      "3\n",
      "44\n",
      "555\n",
      "6666\n",
      "555\n",
      "44\n",
      "3\n",
      "\n"
     ]
    }
   ],
   "source": [
    "num =int(input('Please Enter Number of rows: '))\n",
    "for i in range(num):\n",
    "    for j in range(i+1):\n",
    "            print(i+3,end='')        \n",
    "    print()\n",
    "for i in range(num,0,-1):\n",
    "    for j in range(i-1,0,-1):\n",
    "            print(i+1,end='') \n",
    "    print()"
   ]
  },
  {
   "cell_type": "code",
   "execution_count": 508,
   "id": "673993b9",
   "metadata": {},
   "outputs": [
    {
     "name": "stdout",
     "output_type": "stream",
     "text": [
      "Please Enter Number of rows: 4\n",
      "10987\n",
      "654\n",
      "32\n",
      "1\n"
     ]
    }
   ],
   "source": [
    "num =int(input('Please Enter Number of rows: '))\n",
    "k=10\n",
    "for i in range(num,0,-1):\n",
    "    for j in range(i,0,-1):\n",
    "        print(k,end='') \n",
    "        k-=1\n",
    "    print()"
   ]
  },
  {
   "cell_type": "code",
   "execution_count": null,
   "id": "0eeeb1b3",
   "metadata": {},
   "outputs": [],
   "source": []
  }
 ],
 "metadata": {
  "kernelspec": {
   "display_name": "Python 3 (ipykernel)",
   "language": "python",
   "name": "python3"
  },
  "language_info": {
   "codemirror_mode": {
    "name": "ipython",
    "version": 3
   },
   "file_extension": ".py",
   "mimetype": "text/x-python",
   "name": "python",
   "nbconvert_exporter": "python",
   "pygments_lexer": "ipython3",
   "version": "3.10.4"
  }
 },
 "nbformat": 4,
 "nbformat_minor": 5
}
