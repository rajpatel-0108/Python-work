{
 "cells": [
  {
   "cell_type": "code",
   "execution_count": 18,
   "id": "654dca6b",
   "metadata": {},
   "outputs": [
    {
     "name": "stdout",
     "output_type": "stream",
     "text": [
      "Enter a number: 100\n",
      "The Armstrong numbers are:  1\n",
      "The Armstrong numbers are:  2\n",
      "The Armstrong numbers are:  3\n",
      "The Armstrong numbers are:  4\n",
      "The Armstrong numbers are:  5\n",
      "The Armstrong numbers are:  6\n",
      "The Armstrong numbers are:  7\n",
      "The Armstrong numbers are:  8\n",
      "The Armstrong numbers are:  9\n"
     ]
    }
   ],
   "source": [
    "num = int(input(\"Enter a number: \"))\n",
    "for numb in range(1, num + 1):\n",
    "    odr = len(str(numb))\n",
    "    sum = 0\n",
    "    tem = numb\n",
    "    while tem > 0:\n",
    "        digit = tem % 10\n",
    "        sum += digit ** odr\n",
    "        tem //= 10\n",
    "    if numb == sum:\n",
    "        print(\"The Armstrong numbers are: \",numb)"
   ]
  },
  {
   "cell_type": "code",
   "execution_count": null,
   "id": "ed926731",
   "metadata": {},
   "outputs": [],
   "source": [
    "import math\n",
    "minimum = int(input(\" Please Enter the Minimum Value: \"))\n",
    "maximum = int(input(\" Please Enter the Maximum Value: \"))\n",
    "\n",
    "for Number in range(minimum, maximum):\n",
    "    Temp = Number\n",
    "    Sum = 0\n",
    "    while(Temp > 0):\n",
    "        Reminder = Temp % 10\n",
    "        Factorial = math.factorial(Reminder)\n",
    "        Sum = Sum + Factorial\n",
    "        Temp = Temp // 10\n",
    "    \n",
    "    if (Sum == Number):\n",
    "        print(\" %d is a Strong Number\" %Number)"
   ]
  }
 ],
 "metadata": {
  "kernelspec": {
   "display_name": "Python 3 (ipykernel)",
   "language": "python",
   "name": "python3"
  },
  "language_info": {
   "codemirror_mode": {
    "name": "ipython",
    "version": 3
   },
   "file_extension": ".py",
   "mimetype": "text/x-python",
   "name": "python",
   "nbconvert_exporter": "python",
   "pygments_lexer": "ipython3",
   "version": "3.10.4"
  }
 },
 "nbformat": 4,
 "nbformat_minor": 5
}
