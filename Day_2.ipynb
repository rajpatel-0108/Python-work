{
 "cells": [
  {
   "cell_type": "markdown",
   "id": "e966d033",
   "metadata": {},
   "source": [
    "<b> 1. Write a Python program to print all natural numbers from 1 to n. - using while loop"
   ]
  },
  {
   "cell_type": "code",
   "execution_count": 5,
   "id": "e87ddfcd",
   "metadata": {},
   "outputs": [
    {
     "name": "stdout",
     "output_type": "stream",
     "text": [
      "Enter the last number till you want to print:10\n",
      "1\n",
      "2\n",
      "3\n",
      "4\n",
      "5\n",
      "6\n",
      "7\n",
      "8\n",
      "9\n",
      "10\n"
     ]
    }
   ],
   "source": [
    "n = int(input(\"Enter the last number till you want to print:\"))\n",
    "i = 1\n",
    "while i < n+1:\n",
    "    print(i)\n",
    "    i += 1"
   ]
  },
  {
   "cell_type": "markdown",
   "id": "eabde9d5",
   "metadata": {},
   "source": [
    "<b> 2. Write a Python program to print all natural numbers in reverse (from n to 1). - using while loop"
   ]
  },
  {
   "cell_type": "code",
   "execution_count": 35,
   "id": "ef6c1f47",
   "metadata": {},
   "outputs": [
    {
     "name": "stdout",
     "output_type": "stream",
     "text": [
      "Enter the last number till you want to print:10\n",
      "10\n",
      "9\n",
      "8\n",
      "7\n",
      "6\n",
      "5\n",
      "4\n",
      "3\n",
      "2\n",
      "1\n"
     ]
    }
   ],
   "source": [
    "n = int(input(\"Enter the last number till you want to print:\"))\n",
    "i = 0\n",
    "while n > i:\n",
    "    print(n)\n",
    "    n -= 1"
   ]
  },
  {
   "cell_type": "markdown",
   "id": "157483e0",
   "metadata": {},
   "source": [
    "<b> 3. Write a Python program to print all alphabets from a to z. - using while "
   ]
  },
  {
   "cell_type": "code",
   "execution_count": 7,
   "id": "379ec9c8",
   "metadata": {},
   "outputs": [
    {
     "name": "stdout",
     "output_type": "stream",
     "text": [
      "\n",
      "Alphabets from a to z:\n",
      "a b c d e f g h i j k l m n o p q r s t u v w x y z "
     ]
    }
   ],
   "source": [
    "a = 97\n",
    "print(\"\\nAlphabets from a to z:\")\n",
    "while a <= 122:\n",
    "    b = chr(a)\n",
    "    print(b, end = ' ')\n",
    "    a +=1"
   ]
  },
  {
   "cell_type": "markdown",
   "id": "ec1043e8",
   "metadata": {},
   "source": [
    "<b> 4. Write a Python program to print all odd number between 1 to 100."
   ]
  },
  {
   "cell_type": "code",
   "execution_count": null,
   "id": "3f3a6dfc",
   "metadata": {},
   "outputs": [],
   "source": [
    "i = 1\n",
    "while i < 101:\n",
    "    if i % 2 != 0:\n",
    "        print(i)\n",
    "    i += 1"
   ]
  },
  {
   "cell_type": "markdown",
   "id": "fe1d2a80",
   "metadata": {},
   "source": [
    "<b> 5. Write a Python program to find sum of all natural numbers between 1 to n."
   ]
  },
  {
   "cell_type": "code",
   "execution_count": 74,
   "id": "3df65a0c",
   "metadata": {},
   "outputs": [
    {
     "name": "stdout",
     "output_type": "stream",
     "text": [
      "Enter a number: 4\n",
      "The sum is 10\n"
     ]
    }
   ],
   "source": [
    "num = int(input(\"Enter a number till you want to sum: \"))    \n",
    "if num <= 0:  \n",
    "    print(\"Enter a positive number\")  \n",
    "else:  \n",
    "    sum = 0  \n",
    "    while(num > 0):  \n",
    "        sum = sum + num\n",
    "        num = num - 1\n",
    "    print(\"The sum is\",sum)  "
   ]
  },
  {
   "cell_type": "markdown",
   "id": "4e2929c8",
   "metadata": {},
   "source": [
    "<b> \n",
    "6. Write a Python program to find sum of all even numbers between 1 to n."
   ]
  },
  {
   "cell_type": "code",
   "execution_count": 30,
   "id": "485b8ebc",
   "metadata": {},
   "outputs": [
    {
     "name": "stdout",
     "output_type": "stream",
     "text": [
      "Enter a number: 10\n",
      "The sum is 30\n"
     ]
    }
   ],
   "source": [
    "num = int(input(\"Enter a number: \"))    \n",
    "sum=0\n",
    "i =1\n",
    "while(num >= i):\n",
    "    if num % 2 == 0:\n",
    "        sum += num  \n",
    "    num -= 1  \n",
    "print(\"The sum is\",sum)  \n",
    "    "
   ]
  },
  {
   "cell_type": "markdown",
   "id": "70de3f4e",
   "metadata": {},
   "source": [
    "<b> 7. Write a Python program to find sum of all odd numbers between 1 to n."
   ]
  },
  {
   "cell_type": "code",
   "execution_count": 31,
   "id": "6ed7828c",
   "metadata": {},
   "outputs": [
    {
     "name": "stdout",
     "output_type": "stream",
     "text": [
      "Enter a number: 10\n",
      "The sum is 25\n"
     ]
    }
   ],
   "source": [
    "num = int(input(\"Enter a number: \"))    \n",
    "sum=0\n",
    "i =1\n",
    "while(num >= i):\n",
    "    if num % 2 != 0:\n",
    "        sum += num  \n",
    "    num -= 1  \n",
    "print(\"The sum is\",sum)  "
   ]
  },
  {
   "cell_type": "markdown",
   "id": "5bfce3d7",
   "metadata": {},
   "source": [
    "<b> 8. Write a Python program to print multiplication table of any number."
   ]
  },
  {
   "cell_type": "code",
   "execution_count": 32,
   "id": "68aa1abd",
   "metadata": {},
   "outputs": [
    {
     "name": "stdout",
     "output_type": "stream",
     "text": [
      "Enter a number: 2\n",
      "2 x 1 = 2\n",
      "2 x 2 = 4\n",
      "2 x 3 = 6\n",
      "2 x 4 = 8\n",
      "2 x 5 = 10\n",
      "2 x 6 = 12\n",
      "2 x 7 = 14\n",
      "2 x 8 = 16\n",
      "2 x 9 = 18\n",
      "2 x 10 = 20\n"
     ]
    }
   ],
   "source": [
    "num = int(input(\"Enter a number: \")) \n",
    "for i in range(1, 11):\n",
    "    print(num, 'x', i, '=', num*i)"
   ]
  },
  {
   "cell_type": "markdown",
   "id": "14525dfe",
   "metadata": {},
   "source": [
    "<b> 9.Write a Python program to count number of digits in a number."
   ]
  },
  {
   "cell_type": "code",
   "execution_count": 44,
   "id": "ee5e6327",
   "metadata": {},
   "outputs": [
    {
     "name": "stdout",
     "output_type": "stream",
     "text": [
      "Enter number:1320456987\n",
      "10\n"
     ]
    }
   ],
   "source": [
    "num = input(\"Enter number:\")\n",
    "result = []\n",
    "for i in range(0, len(num)):\n",
    "    result.append(int(num[i : i+1]))\n",
    "print(len(result))"
   ]
  },
  {
   "cell_type": "markdown",
   "id": "df77ea0a",
   "metadata": {},
   "source": [
    "<b> 10.Write a Python program to find first and last digit of a number"
   ]
  },
  {
   "cell_type": "code",
   "execution_count": 46,
   "id": "e9a3522a",
   "metadata": {},
   "outputs": [
    {
     "name": "stdout",
     "output_type": "stream",
     "text": [
      "Enter number:123456\n",
      "First digit is: 1 and Last digit is: 6\n"
     ]
    }
   ],
   "source": [
    "num = input(\"Enter number:\")\n",
    "result = []\n",
    "for i in range(0, len(num)):\n",
    "    result.append(int(num[i : i+1]))\n",
    "print(\"First digit is:\",result[0],\"and Last digit is:\",result[-1])"
   ]
  },
  {
   "cell_type": "markdown",
   "id": "14e81d2b",
   "metadata": {},
   "source": [
    "<b> 11.Write a Python program to find sum of first and last digit of a number."
   ]
  },
  {
   "cell_type": "code",
   "execution_count": 48,
   "id": "87563410",
   "metadata": {},
   "outputs": [
    {
     "name": "stdout",
     "output_type": "stream",
     "text": [
      "Enter number:12548796\n",
      "First digit is: 1 and Last digit is: 6\n",
      "Sum of First and Last digit is: 7\n"
     ]
    }
   ],
   "source": [
    "num = input(\"Enter number:\")\n",
    "result = []\n",
    "for i in range(0, len(num)):\n",
    "    result.append(int(num[i : i+1]))\n",
    "sum = result[0] + result[-1]\n",
    "print(\"First digit is:\",result[0],\"and Last digit is:\",result[-1])\n",
    "print(\"Sum of First and Last digit is:\", sum)"
   ]
  },
  {
   "cell_type": "markdown",
   "id": "6b9d38b8",
   "metadata": {},
   "source": [
    "<b> 12.Write a Python program to swap first and last digits of a number."
   ]
  },
  {
   "cell_type": "code",
   "execution_count": 144,
   "id": "b1f52f6a",
   "metadata": {},
   "outputs": [
    {
     "name": "stdout",
     "output_type": "stream",
     "text": [
      "Enter number:15\n",
      "First digit is: 1 and Last digit is: 5\n",
      "After Swaping First digit is: 5 and Last digit is: 1\n",
      "51"
     ]
    }
   ],
   "source": [
    "num = input(\"Enter number:\")\n",
    "result = []\n",
    "str1=''\n",
    "for i in range(0, len(num)):\n",
    "    result.append(int(num[i : i+1]))\n",
    "print(\"First digit is:\",result[0],\"and Last digit is:\",result[-1])\n",
    "temp = result[0]\n",
    "result[0] = result[-1]\n",
    "result[-1]= temp\n",
    "print(\"After Swaping First digit is:\",result[0],\"and Last digit is:\", result[-1])\n",
    "for ele in result:\n",
    "    print(ele,end='')"
   ]
  },
  {
   "cell_type": "markdown",
   "id": "606f6069",
   "metadata": {},
   "source": [
    "<b> 13.Write a Python program to calculate sum of digits of a number."
   ]
  },
  {
   "cell_type": "code",
   "execution_count": 66,
   "id": "ba46bee8",
   "metadata": {},
   "outputs": [
    {
     "name": "stdout",
     "output_type": "stream",
     "text": [
      "Enter number:012547\n",
      "Sum of digits of a number is: 19\n"
     ]
    }
   ],
   "source": [
    "num = input(\"Enter number:\")\n",
    "result = []\n",
    "sum=0\n",
    "for i in range(0, len(num)):\n",
    "    result.append(int(num[i : i+1]))\n",
    "for j in range(len(result)):\n",
    "    sum += result[j]      \n",
    "print(\"Sum of digits of a number is:\", sum)"
   ]
  },
  {
   "cell_type": "markdown",
   "id": "8de030ae",
   "metadata": {},
   "source": [
    "<b> 14.Write a Python program to calculate product of digits of a number."
   ]
  },
  {
   "cell_type": "code",
   "execution_count": 70,
   "id": "208448af",
   "metadata": {},
   "outputs": [
    {
     "name": "stdout",
     "output_type": "stream",
     "text": [
      "Enter number:1254\n",
      "Product of digits of a number is: 40\n"
     ]
    }
   ],
   "source": [
    "num = input(\"Enter number:\")\n",
    "result = []\n",
    "product=1\n",
    "for i in range(0, len(num)):\n",
    "    result.append(int(num[i : i+1]))\n",
    "for j in range(len(result)):\n",
    "    product = product * result[j]      \n",
    "print(\"Product of digits of a number is:\", product)"
   ]
  },
  {
   "cell_type": "markdown",
   "id": "55c7ee71",
   "metadata": {},
   "source": [
    "<b>15.Write a Python program to enter a number and print its reverse."
   ]
  },
  {
   "cell_type": "code",
   "execution_count": 53,
   "id": "f1e87198",
   "metadata": {},
   "outputs": [
    {
     "name": "stdout",
     "output_type": "stream",
     "text": [
      "Enter number:123456\n",
      "Reverse of a number is: [6, 5, 4, 3, 2, 1]\n"
     ]
    }
   ],
   "source": [
    "num = input(\"Enter number:\")\n",
    "result = []\n",
    "for i in range(0, len(num)):\n",
    "    result.append(int(num[i : i+1]))\n",
    "result= str(result[::-1])\n",
    "print(\"Reverse of a number is:\", result)"
   ]
  },
  {
   "cell_type": "markdown",
   "id": "de0cd435",
   "metadata": {},
   "source": [
    "<b> 16.Write a Python program to check whether a number is palindrome or not."
   ]
  },
  {
   "cell_type": "code",
   "execution_count": 81,
   "id": "c6b37978",
   "metadata": {},
   "outputs": [
    {
     "name": "stdout",
     "output_type": "stream",
     "text": [
      "Enter a number:1221\n",
      "The number is palindrome!\n"
     ]
    }
   ],
   "source": [
    "num=int(input(\"Enter a number:\"))\n",
    "temp=num\n",
    "reverse=0\n",
    "while(num>0):\n",
    "    dig=num%10\n",
    "    reverse=reverse*10+dig\n",
    "    num=num//10\n",
    "if(temp==reverse):\n",
    "    print(\"The number is palindrome!\")\n",
    "else:\n",
    "    print(\"Not a palindrome!\")"
   ]
  },
  {
   "cell_type": "markdown",
   "id": "a70a9531",
   "metadata": {},
   "source": [
    "<b> 17.Write a Python program to find frequency of each digit in a given integer."
   ]
  },
  {
   "cell_type": "code",
   "execution_count": 85,
   "id": "1834bf64",
   "metadata": {},
   "outputs": [
    {
     "name": "stdout",
     "output_type": "stream",
     "text": [
      "Enter any Number125463\n",
      "Digit  Frequency\n",
      "1       1\n",
      "2       1\n",
      "3       1\n",
      "4       1\n",
      "5       1\n",
      "6       1\n"
     ]
    }
   ],
   "source": [
    "number=int(input(\"Enter any Number\"))\n",
    "print(\"Digit\" +\"  \"+\"Frequency\")\n",
    "for i in range(10):\n",
    "    count=0;\n",
    "    temp=number;\n",
    "    while temp>0:\n",
    "        digit=temp%10\n",
    "        if digit==i:\n",
    "            count=count+1\n",
    "        temp=temp//10;\n",
    "    if count>0:\n",
    "        print(i,\"     \",count)"
   ]
  },
  {
   "cell_type": "markdown",
   "id": "6ea122b8",
   "metadata": {},
   "source": [
    "<b> 18.Write a Python program to enter a number and print it in words"
   ]
  },
  {
   "cell_type": "code",
   "execution_count": 34,
   "id": "b78d46e2",
   "metadata": {},
   "outputs": [
    {
     "name": "stdout",
     "output_type": "stream",
     "text": [
      "Enter any number:2546\n",
      "6\n",
      "254\n",
      "['Six']\n",
      "4\n",
      "25\n",
      "['Six', 'Four']\n",
      "5\n",
      "2\n",
      "['Six', 'Four', 'Five']\n",
      "2\n",
      "0\n",
      "['Six', 'Four', 'Five', 'Two']\n",
      "Two Five Four Six "
     ]
    }
   ],
   "source": [
    "num = int(input(\"Enter any number:\"))\n",
    "t = list()\n",
    "while num > 0:\n",
    "    rem = num % 10\n",
    "    print(rem)\n",
    "    if rem == 0:\n",
    "        t.append(\"Zero\")\n",
    "    elif rem == 1: \n",
    "        t.append(\"One\")\n",
    "    elif rem == 2:\n",
    "        t.append(\"Two\")\n",
    "    elif rem == 3:\n",
    "        t.append(\"Three\")\n",
    "    elif rem == 4:\n",
    "        t.append(\"Four\")\n",
    "    elif rem == 5:\n",
    "        t.append(\"Five\")\n",
    "    elif rem == 6:\n",
    "        t.append(\"Six\")\n",
    "    elif rem == 7:\n",
    "        t.append(\"Seven\") \n",
    "    elif rem == 8:\n",
    "        t.append(\"Eight\")\n",
    "    elif rem == 9:\n",
    "        t.append(\"Nine\")\n",
    "    num = num // 10\n",
    "    print(num)\n",
    "    print(t)\n",
    "for i in range(len(t)-1,-1,-1):\n",
    "    print(t[i],end=\" \")"
   ]
  },
  {
   "cell_type": "markdown",
   "id": "2c60bd71",
   "metadata": {},
   "source": [
    "<b> 19. Write a Python program to print all AScII character with their values."
   ]
  },
  {
   "cell_type": "code",
   "execution_count": null,
   "id": "76b91274",
   "metadata": {},
   "outputs": [],
   "source": [
    "a = 32\n",
    "print(\"\\n All AScII Characters with their values: \")\n",
    "while a < 127:\n",
    "    b = chr(a)\n",
    "    print(\"The AscII number is {} and its value is {}\".format(a,b))\n",
    "    a +=1"
   ]
  },
  {
   "cell_type": "markdown",
   "id": "d91891b0",
   "metadata": {},
   "source": [
    "<b> 20. Write a Python program to find power of a number using for loop."
   ]
  },
  {
   "cell_type": "code",
   "execution_count": 389,
   "id": "bc9fd0cb",
   "metadata": {},
   "outputs": [
    {
     "name": "stdout",
     "output_type": "stream",
     "text": [
      "Enter a number: 2\n",
      "Enter the power: 6\n",
      "64\n"
     ]
    }
   ],
   "source": [
    "num = int(input(\"Enter a number: \"))\n",
    "pw = int(input(\"Enter the power: \"))\n",
    "res = 1\n",
    "for n in range(pw):\n",
    "    res = res*num\n",
    "print(res)"
   ]
  },
  {
   "cell_type": "markdown",
   "id": "59ae922e",
   "metadata": {},
   "source": [
    "<b> 21. Write a Python program to find all factors of a number."
   ]
  },
  {
   "cell_type": "code",
   "execution_count": 51,
   "id": "fee0bb6a",
   "metadata": {},
   "outputs": [
    {
     "name": "stdout",
     "output_type": "stream",
     "text": [
      "Enter the number for factors:12\n",
      "The factors of 12 are:\n",
      "1\n",
      "2\n",
      "3\n",
      "4\n",
      "6\n",
      "12\n"
     ]
    }
   ],
   "source": [
    "num = int(input(\"Enter the number for factors:\"))\n",
    "print(\"The factors of\",num,\"are:\")\n",
    "for i in range(1, num + 1):\n",
    "    if num % i == 0:\n",
    "        print(i)"
   ]
  },
  {
   "cell_type": "markdown",
   "id": "702b80ae",
   "metadata": {},
   "source": [
    "<b> 22. Write a Python program to calculate factorial of a number."
   ]
  },
  {
   "cell_type": "code",
   "execution_count": 391,
   "id": "0b76532f",
   "metadata": {},
   "outputs": [
    {
     "name": "stdout",
     "output_type": "stream",
     "text": [
      "Enter the number you want factorial for:50\n",
      "30414093201713378043612608166064768844377641568960512000000000000\n"
     ]
    }
   ],
   "source": [
    "n = int(input(\"Enter the number you want factorial for:\"))\n",
    "i = 0\n",
    "fact = 1\n",
    "while n > i:\n",
    "    fact = fact * n\n",
    "    n -= 1\n",
    "print(fact)"
   ]
  },
  {
   "cell_type": "markdown",
   "id": "97afc4cd",
   "metadata": {},
   "source": [
    "<b> 23. Write a Python program to find HcF (GcD) of two numbers."
   ]
  },
  {
   "cell_type": "code",
   "execution_count": 76,
   "id": "783282d0",
   "metadata": {},
   "outputs": [
    {
     "name": "stdout",
     "output_type": "stream",
     "text": [
      "Enter first number for HCF:2\n",
      "Enter second number for HCF:9\n",
      "The H.C.F. is:  1\n"
     ]
    }
   ],
   "source": [
    "x = int(input(\"Enter first number for HCF:\"))\n",
    "y = int(input(\"Enter second number for HCF:\"))\n",
    "if x > y:\n",
    "    smaller = y\n",
    "else:\n",
    "    smaller = x\n",
    "for i in range(1, smaller+1):\n",
    "    if((x % i == 0) and (y % i == 0)):\n",
    "        hcf = i \n",
    "print(\"The H.C.F. is: \",hcf )"
   ]
  },
  {
   "cell_type": "markdown",
   "id": "d5b6367f",
   "metadata": {},
   "source": [
    "<b> 24. Write a Python program to find LcM of two numbers."
   ]
  },
  {
   "cell_type": "code",
   "execution_count": 81,
   "id": "dba78861",
   "metadata": {},
   "outputs": [
    {
     "name": "stdout",
     "output_type": "stream",
     "text": [
      "Enter first number for LCM:24\n",
      "Enter second number for LCM:15\n",
      "The L.C.M. is 120\n"
     ]
    }
   ],
   "source": [
    "x = int(input(\"Enter first number for LCM:\"))\n",
    "y = int(input(\"Enter second number for LCM:\"))\n",
    "if x > y:\n",
    "    greater = x\n",
    "else:\n",
    "    greater = y\n",
    "while(True):\n",
    "    if((greater % x == 0) and (greater % y == 0)):\n",
    "        lcm = greater\n",
    "        break\n",
    "    greater += 1\n",
    "print(\"The L.C.M. is\", lcm)"
   ]
  },
  {
   "cell_type": "markdown",
   "id": "c533205a",
   "metadata": {},
   "source": [
    "<b> 25. Write a Python program to check whether a number is Prime number or not."
   ]
  },
  {
   "cell_type": "code",
   "execution_count": 87,
   "id": "6a456168",
   "metadata": {},
   "outputs": [
    {
     "name": "stdout",
     "output_type": "stream",
     "text": [
      "Enter the number to check whether it is Prime or not:7\n",
      "7 is a prime number.\n"
     ]
    }
   ],
   "source": [
    "num = int(input(\"Enter the number to check whether it is Prime or not:\"))\n",
    "for i in range(2, num):\n",
    "    if (num % i == 0):\n",
    "        print(num, 'is not a prime number.')\n",
    "        break\n",
    "else:\n",
    "    print(num, 'is a prime number.')"
   ]
  },
  {
   "cell_type": "markdown",
   "id": "8a3427b9",
   "metadata": {},
   "source": [
    "<b> 26. Write a Python program to print all Prime numbers between 1 to n."
   ]
  },
  {
   "cell_type": "code",
   "execution_count": 285,
   "id": "b6dc0419",
   "metadata": {},
   "outputs": [
    {
     "name": "stdout",
     "output_type": "stream",
     "text": [
      "Enter the number to find Prime:50\n",
      "\n",
      "The Prime Numbers between 1 and 50 are: \n",
      "2 3 5 7 11 13 17 19 23 29 31 37 41 43 47 "
     ]
    }
   ],
   "source": [
    "num = int(input(\"Enter the number to find Prime:\"))\n",
    "print (\"\\nThe Prime Numbers between 1 and {} are: \".format(num)) \n",
    "for i in range(2,num+1):\n",
    "        for j in range(2, i):\n",
    "            if (i % j == 0):\n",
    "                break\n",
    "        else:\n",
    "            print(i, end = ' ')"
   ]
  },
  {
   "cell_type": "markdown",
   "id": "30dfc3d7",
   "metadata": {},
   "source": [
    "<b> 27. Write a Python program to find sum of all prime numbers between 1 to n."
   ]
  },
  {
   "cell_type": "code",
   "execution_count": 339,
   "id": "19057d57",
   "metadata": {},
   "outputs": [
    {
     "name": "stdout",
     "output_type": "stream",
     "text": [
      "Enter the number to sum Prime numbers:259\n",
      "The Prime Numbers between 1 and 259 are: \n",
      "2 3 5 7 11 13 17 19 23 29 31 37 41 43 47 53 59 61 67 71 73 79 83 89 97 101 103 107 109 113 127 131 137 139 149 151 157 163 167 173 179 181 191 193 197 199 211 223 227 229 233 239 241 251 257 \n",
      "The sum of prime numbers from 1 to 259 is : 6338\n"
     ]
    }
   ],
   "source": [
    "lnum = int(input(\"Enter the number to sum Prime numbers:\"))\n",
    "print (\"The Prime Numbers between 1 and {} are: \".format(lnum)) \n",
    "sum = 2\n",
    "for i in range(2,lnum+1):\n",
    "    if i > 1:\n",
    "        for j in range(2, i):\n",
    "            if (i % j == 0):\n",
    "                break\n",
    "        else:\n",
    "            print(i, end = ' ')\n",
    "for number in range(2, lnum + 1):\n",
    "    i=2\n",
    "    for i in range(i, number):\n",
    "        if (number % i == 0):\n",
    "            i = number\n",
    "            break\n",
    "    if i is not number:\n",
    "        sum = sum + number\n",
    "print(\"\\nThe sum of prime numbers from 1 to\", lnum,\"is :\", sum)\n"
   ]
  },
  {
   "cell_type": "markdown",
   "id": "2b3aa95a",
   "metadata": {},
   "source": [
    "<b> 28. Write a Python program to find all prime factors of a number."
   ]
  },
  {
   "cell_type": "code",
   "execution_count": 340,
   "id": "197682e4",
   "metadata": {},
   "outputs": [
    {
     "name": "stdout",
     "output_type": "stream",
     "text": [
      "Enter the number for factors:259\n",
      "The factors of 259 are:\n",
      "1 7 37 259 \n",
      "The Prime factors of 259 are:\n",
      "7 37 "
     ]
    }
   ],
   "source": [
    "num = int(input(\"Enter the number for factors:\"))\n",
    "print(\"The factors of\",num,\"are:\")\n",
    "newlist = []\n",
    "for i in range(1, num + 1):\n",
    "    if num % i == 0:\n",
    "        print(i,end = ' ')\n",
    "        newlist.append(i)\n",
    "print(\"\\nThe Prime factors of\",num,\"are:\")\n",
    "for i in newlist:\n",
    "    if i > 1:\n",
    "        for j in range(2, i):\n",
    "            if (i % j == 0):\n",
    "                break\n",
    "        else:\n",
    "            print(i, end = ' ')"
   ]
  },
  {
   "cell_type": "markdown",
   "id": "e2c55863",
   "metadata": {},
   "source": [
    "<b> 29. Write a Python program to check whether a number is Armstrong number or not."
   ]
  },
  {
   "cell_type": "code",
   "execution_count": 392,
   "id": "29c96fed",
   "metadata": {},
   "outputs": [
    {
     "name": "stdout",
     "output_type": "stream",
     "text": [
      "Enter a number: 145\n",
      "Original number is:  145\n",
      "145 is not Armstrong number!!\n"
     ]
    }
   ],
   "source": [
    "num = input(\"Enter a number: \")\n",
    "num_original = int(num)\n",
    "numlen = len(num)\n",
    "sum1 = 0\n",
    "print(\"Original number is: \",num_original)\n",
    "for i in num:\n",
    "    pow1 = int(i) ** len(num)\n",
    "    sum1 = sum1 + pow1\n",
    "if sum1  == num_original:\n",
    "    print(num_original,\"is Armstrong number!!\")\n",
    "else:\n",
    "    print(num_original, \"is not Armstrong number!!\")"
   ]
  },
  {
   "cell_type": "markdown",
   "id": "3961dc21",
   "metadata": {},
   "source": [
    "<b> 30. Write a Python program to print all Armstrong numbers between 1 to n."
   ]
  },
  {
   "cell_type": "code",
   "execution_count": 396,
   "id": "0c8d1cf3",
   "metadata": {},
   "outputs": [
    {
     "name": "stdout",
     "output_type": "stream",
     "text": [
      "Enter a number: 100\n"
     ]
    },
    {
     "ename": "TypeError",
     "evalue": "'str' object is not callable",
     "output_type": "error",
     "traceback": [
      "\u001b[0;31m---------------------------------------------------------------------------\u001b[0m",
      "\u001b[0;31mTypeError\u001b[0m                                 Traceback (most recent call last)",
      "Input \u001b[0;32mIn [396]\u001b[0m, in \u001b[0;36m<cell line: 2>\u001b[0;34m()\u001b[0m\n\u001b[1;32m      1\u001b[0m num \u001b[38;5;241m=\u001b[39m \u001b[38;5;28mint\u001b[39m(\u001b[38;5;28minput\u001b[39m(\u001b[38;5;124m\"\u001b[39m\u001b[38;5;124mEnter a number: \u001b[39m\u001b[38;5;124m\"\u001b[39m))\n\u001b[0;32m----> 2\u001b[0m \u001b[38;5;28mprint\u001b[39m(\u001b[38;5;28;43mstr\u001b[39;49m\u001b[43m(\u001b[49m\u001b[43mnum\u001b[49m\u001b[43m)\u001b[49m)\n\u001b[1;32m      3\u001b[0m \u001b[38;5;28;01mfor\u001b[39;00m numb \u001b[38;5;129;01min\u001b[39;00m \u001b[38;5;28mrange\u001b[39m(\u001b[38;5;241m1\u001b[39m, num \u001b[38;5;241m+\u001b[39m \u001b[38;5;241m1\u001b[39m):\n\u001b[1;32m      4\u001b[0m     \u001b[38;5;28mprint\u001b[39m(numb)\n",
      "\u001b[0;31mTypeError\u001b[0m: 'str' object is not callable"
     ]
    }
   ],
   "source": [
    "num = int(input(\"Enter a number: \"))\n",
    "for numb in range(1, num + 1):\n",
    "    odr = len(str(numb))\n",
    "    sum = 0\n",
    "    tem = numb\n",
    "    while tem > 0:\n",
    "        digit = tem % 10\n",
    "        sum += digit ** odr\n",
    "        tem //= 10\n",
    "    if numb == sum:\n",
    "        print(\"The Armstrong numbers are: \",numb)"
   ]
  },
  {
   "cell_type": "markdown",
   "id": "3d1c5591",
   "metadata": {},
   "source": [
    "<b> 31. Write a Python program to check whether a number is Perfect number or not."
   ]
  },
  {
   "cell_type": "code",
   "execution_count": 355,
   "id": "dafaf3e5",
   "metadata": {},
   "outputs": [
    {
     "name": "stdout",
     "output_type": "stream",
     "text": [
      "Enter any number: 50\n",
      "The number is not a Perfect number!\n"
     ]
    }
   ],
   "source": [
    "n = int(input(\"Enter any number: \"))\n",
    "sum1 = 0\n",
    "for i in range(1, n):\n",
    "    if(n % i == 0):\n",
    "        sum1 = sum1 + i\n",
    "if (sum1 == n):\n",
    "    print(\"The number is a Perfect number!\")\n",
    "else:\n",
    "    print(\"The number is not a Perfect number!\")"
   ]
  },
  {
   "cell_type": "markdown",
   "id": "f5def8a8",
   "metadata": {},
   "source": [
    "<b> 32. Write a Python program to print all Perfect numbers between 1 to n."
   ]
  },
  {
   "cell_type": "code",
   "execution_count": 370,
   "id": "d92f776e",
   "metadata": {},
   "outputs": [
    {
     "name": "stdout",
     "output_type": "stream",
     "text": [
      "Enter the ending number of the range: 1000\n",
      "All Perfect numbers between 1 to 1000 are:  6 28 496 "
     ]
    }
   ],
   "source": [
    "end = int(input(\"Enter the ending number of the range: \"))\n",
    "print(\"All Perfect numbers between 1 to {} are: \".format(end),end=' ')\n",
    "for n in range(1, end+1):\n",
    "    sum = 0\n",
    "    for i in range(1, n):\n",
    "        if n%i == 0:\n",
    "            sum += i\n",
    "    if n == sum:\n",
    "        print(n,end=' ')"
   ]
  },
  {
   "cell_type": "markdown",
   "id": "b29e457a",
   "metadata": {},
   "source": [
    "<b> 33. Write a Python program to check whether a number is Strong number or not."
   ]
  },
  {
   "cell_type": "code",
   "execution_count": 383,
   "id": "f602ab69",
   "metadata": {},
   "outputs": [
    {
     "name": "stdout",
     "output_type": "stream",
     "text": [
      "Enter a number to check:145\n",
      "The number is a strong number\n"
     ]
    }
   ],
   "source": [
    "sum1=0\n",
    "num=int(input(\"Enter a number to check:\"))\n",
    "temp=num\n",
    "while(num):\n",
    "    i=1\n",
    "    fact=1\n",
    "    r=num%10\n",
    "    while(i<=r):\n",
    "        fact=fact*i\n",
    "        i=i+1\n",
    "    sum1 +=fact\n",
    "    num=num//10\n",
    "if(sum1==temp):\n",
    "    print(\"The number is a strong number\")\n",
    "else:\n",
    "    print(\"The number is not a strong number\")"
   ]
  },
  {
   "cell_type": "markdown",
   "id": "2baa2b6a",
   "metadata": {},
   "source": [
    "<b> End of the Day"
   ]
  }
 ],
 "metadata": {
  "kernelspec": {
   "display_name": "Python 3 (ipykernel)",
   "language": "python",
   "name": "python3"
  },
  "language_info": {
   "codemirror_mode": {
    "name": "ipython",
    "version": 3
   },
   "file_extension": ".py",
   "mimetype": "text/x-python",
   "name": "python",
   "nbconvert_exporter": "python",
   "pygments_lexer": "ipython3",
   "version": "3.10.4"
  }
 },
 "nbformat": 4,
 "nbformat_minor": 5
}
